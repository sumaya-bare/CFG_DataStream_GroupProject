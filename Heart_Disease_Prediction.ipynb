{
 "cells": [
  {
   "cell_type": "markdown",
   "id": "f7d5d7ab-a309-445c-a42f-3a21c9ab7e6e",
   "metadata": {},
   "source": [
    "# Prediction of Cardiovascular Disease (CVD) from Historical Data using the Franmingham Dataset.\n",
    "\n",
    "Installing the necessary packages:"
   ]
  },
  {
   "cell_type": "code",
   "execution_count": 1,
   "id": "d6ae6850-4b35-4c6d-a58c-16e064d8abad",
   "metadata": {},
   "outputs": [],
   "source": [
    "import pandas as pd\n",
    "import numpy as np\n",
    "import matplotlib.pyplot as plt\n",
    "%matplotlib inline\n",
    "import seaborn as sns; sns.set()\n",
    "plt.style.use('seaborn-white')\n",
    "import statistics\n",
    "from sklearn import preprocessing\n",
    "from sklearn.preprocessing import MinMaxScaler\n",
    "# from sklearn import feature_selection\n",
    "# from sklearn.decomposition import PCA\n",
    "from imblearn.over_sampling import SMOTE\n",
    "\n",
    "import warnings\n",
    "from warnings import filterwarnings\n",
    "filterwarnings('ignore')\n",
    "warnings.simplefilter('ignore')\n",
    "from scipy import stats\n",
    "from numpy import mean\n",
    "\n",
    "from sklearn.pipeline import Pipeline\n",
    "from sklearn.model_selection import train_test_split, GridSearchCV, cross_val_score \n",
    "from sklearn.model_selection import RepeatedStratifiedKFold, StratifiedKFold\n",
    "from sklearn import metrics\n",
    "from sklearn.metrics import roc_auc_score, average_precision_score, precision_recall_curve, plot_precision_recall_curve\n",
    "from sklearn.metrics import f1_score, classification_report, confusion_matrix\n",
    "from sklearn.linear_model import LogisticRegression\n",
    "from sklearn.ensemble import RandomForestClassifier\n",
    "from sklearn.model_selection import cross_val_score\n",
    "from sklearn.model_selection import RepeatedStratifiedKFold\n",
    "# from sklearn.neighbors import KNeighborsClassifier\n",
    "from sklearn.ensemble import GradientBoostingClassifier\n"
   ]
  },
  {
   "cell_type": "markdown",
   "id": "85cca08b-5ffd-41ec-8c2c-a4b4c312db7e",
   "metadata": {},
   "source": [
    "## 1. Loading the data"
   ]
  },
  {
   "cell_type": "code",
   "execution_count": 2,
   "id": "d11b4712-b006-43b3-a3fd-e91b0202dd3d",
   "metadata": {
    "tags": []
   },
   "outputs": [
    {
     "data": {
      "text/html": [
       "<div>\n",
       "<style scoped>\n",
       "    .dataframe tbody tr th:only-of-type {\n",
       "        vertical-align: middle;\n",
       "    }\n",
       "\n",
       "    .dataframe tbody tr th {\n",
       "        vertical-align: top;\n",
       "    }\n",
       "\n",
       "    .dataframe thead th {\n",
       "        text-align: right;\n",
       "    }\n",
       "</style>\n",
       "<table border=\"1\" class=\"dataframe\">\n",
       "  <thead>\n",
       "    <tr style=\"text-align: right;\">\n",
       "      <th></th>\n",
       "      <th>male</th>\n",
       "      <th>age</th>\n",
       "      <th>education</th>\n",
       "      <th>currentSmoker</th>\n",
       "      <th>cigsPerDay</th>\n",
       "      <th>BPMeds</th>\n",
       "      <th>prevalentStroke</th>\n",
       "      <th>prevalentHyp</th>\n",
       "      <th>diabetes</th>\n",
       "      <th>totChol</th>\n",
       "      <th>sysBP</th>\n",
       "      <th>diaBP</th>\n",
       "      <th>BMI</th>\n",
       "      <th>heartRate</th>\n",
       "      <th>glucose</th>\n",
       "      <th>TenYearCHD</th>\n",
       "    </tr>\n",
       "  </thead>\n",
       "  <tbody>\n",
       "    <tr>\n",
       "      <th>0</th>\n",
       "      <td>1</td>\n",
       "      <td>39</td>\n",
       "      <td>4.0</td>\n",
       "      <td>0</td>\n",
       "      <td>0.0</td>\n",
       "      <td>0.0</td>\n",
       "      <td>0</td>\n",
       "      <td>0</td>\n",
       "      <td>0</td>\n",
       "      <td>195.0</td>\n",
       "      <td>106.0</td>\n",
       "      <td>70.0</td>\n",
       "      <td>26.97</td>\n",
       "      <td>80.0</td>\n",
       "      <td>77.0</td>\n",
       "      <td>0</td>\n",
       "    </tr>\n",
       "    <tr>\n",
       "      <th>1</th>\n",
       "      <td>0</td>\n",
       "      <td>46</td>\n",
       "      <td>2.0</td>\n",
       "      <td>0</td>\n",
       "      <td>0.0</td>\n",
       "      <td>0.0</td>\n",
       "      <td>0</td>\n",
       "      <td>0</td>\n",
       "      <td>0</td>\n",
       "      <td>250.0</td>\n",
       "      <td>121.0</td>\n",
       "      <td>81.0</td>\n",
       "      <td>28.73</td>\n",
       "      <td>95.0</td>\n",
       "      <td>76.0</td>\n",
       "      <td>0</td>\n",
       "    </tr>\n",
       "    <tr>\n",
       "      <th>2</th>\n",
       "      <td>1</td>\n",
       "      <td>48</td>\n",
       "      <td>1.0</td>\n",
       "      <td>1</td>\n",
       "      <td>20.0</td>\n",
       "      <td>0.0</td>\n",
       "      <td>0</td>\n",
       "      <td>0</td>\n",
       "      <td>0</td>\n",
       "      <td>245.0</td>\n",
       "      <td>127.5</td>\n",
       "      <td>80.0</td>\n",
       "      <td>25.34</td>\n",
       "      <td>75.0</td>\n",
       "      <td>70.0</td>\n",
       "      <td>0</td>\n",
       "    </tr>\n",
       "    <tr>\n",
       "      <th>3</th>\n",
       "      <td>0</td>\n",
       "      <td>61</td>\n",
       "      <td>3.0</td>\n",
       "      <td>1</td>\n",
       "      <td>30.0</td>\n",
       "      <td>0.0</td>\n",
       "      <td>0</td>\n",
       "      <td>1</td>\n",
       "      <td>0</td>\n",
       "      <td>225.0</td>\n",
       "      <td>150.0</td>\n",
       "      <td>95.0</td>\n",
       "      <td>28.58</td>\n",
       "      <td>65.0</td>\n",
       "      <td>103.0</td>\n",
       "      <td>1</td>\n",
       "    </tr>\n",
       "    <tr>\n",
       "      <th>4</th>\n",
       "      <td>0</td>\n",
       "      <td>46</td>\n",
       "      <td>3.0</td>\n",
       "      <td>1</td>\n",
       "      <td>23.0</td>\n",
       "      <td>0.0</td>\n",
       "      <td>0</td>\n",
       "      <td>0</td>\n",
       "      <td>0</td>\n",
       "      <td>285.0</td>\n",
       "      <td>130.0</td>\n",
       "      <td>84.0</td>\n",
       "      <td>23.10</td>\n",
       "      <td>85.0</td>\n",
       "      <td>85.0</td>\n",
       "      <td>0</td>\n",
       "    </tr>\n",
       "  </tbody>\n",
       "</table>\n",
       "</div>"
      ],
      "text/plain": [
       "   male  age  education  currentSmoker  cigsPerDay  BPMeds  prevalentStroke  \\\n",
       "0     1   39        4.0              0         0.0     0.0                0   \n",
       "1     0   46        2.0              0         0.0     0.0                0   \n",
       "2     1   48        1.0              1        20.0     0.0                0   \n",
       "3     0   61        3.0              1        30.0     0.0                0   \n",
       "4     0   46        3.0              1        23.0     0.0                0   \n",
       "\n",
       "   prevalentHyp  diabetes  totChol  sysBP  diaBP    BMI  heartRate  glucose  \\\n",
       "0             0         0    195.0  106.0   70.0  26.97       80.0     77.0   \n",
       "1             0         0    250.0  121.0   81.0  28.73       95.0     76.0   \n",
       "2             0         0    245.0  127.5   80.0  25.34       75.0     70.0   \n",
       "3             1         0    225.0  150.0   95.0  28.58       65.0    103.0   \n",
       "4             0         0    285.0  130.0   84.0  23.10       85.0     85.0   \n",
       "\n",
       "   TenYearCHD  \n",
       "0           0  \n",
       "1           0  \n",
       "2           0  \n",
       "3           1  \n",
       "4           0  "
      ]
     },
     "execution_count": 2,
     "metadata": {},
     "output_type": "execute_result"
    }
   ],
   "source": [
    "# importing the dataset\n",
    "data = pd.read_csv(\"chd_pred.csv\")\n",
    "# making sure the data was imported correctly\n",
    "data.head()"
   ]
  },
  {
   "cell_type": "markdown",
   "id": "4afbbaba-eb3d-41f3-8805-987a6940c0d7",
   "metadata": {},
   "source": [
    "## 2. Exploratory Data Analysis (EDA)\n",
    "\n",
    "\n",
    "### 2.1. Variable Description\n",
    "\n",
    "Variables in the data set are described below. The variable 'male' was renamed to 'gender' to make it more descriptive. Variables are all numerical so no label encoding was needed.\n",
    "\n",
    "**Age:** Age in years (32 to 70) <br>\n",
    "**Male:** Gender instance (1 = Female, 0= Male) <br>\n",
    "**Education:** Level of education (1=0-11 years,2=High School Diploma, GED, 3=Some College, Vocational School, 4=College (BS, BA) degree or more) <br>\n",
    "**CurrentSmoker:** Whether or not the patient is a current smoker 0 : no 1 : yes <br>\n",
    "**CurrentSmoker:** Whether or not the patient is a current smoker 0 : no 1 : yes <br>\n",
    "**CigsPerDay:** The number of cigarettes that the person smoked on average in one day <br>\n",
    "**BPMeds:** Whether or not the patient was on blood pressure medication 0 : no 1 : yes <br>\n",
    "**PrevalentStroke:** Whether or not the patient was on blood pressure medication 0 : no 1 : yes <br>\n",
    "**PrevalentHyp:** Whether or not the patient was hypertensive 0 : no 1 : yes <br>\n",
    "**Diabetes:** Whether or not the patient had diabetes 0 : no 1 : yes <br>\n",
    "**TotChol:** Total cholesterol level <br>\n",
    "**SysBP** Systolic blood pressure <br>\n",
    "**DiaBP:** Diastolic blood pressure <br>\n",
    "**BMI:** Body Mass Index <br>\n",
    "**Heart Rate:** Measure of heart rate <br>\n",
    "**Glucose:** Glucose level <br>\n",
    "**TenyearHeart:** whether or not the patient will develop heart disease in the future ten\n",
    "years (target) 0 : no 1 : yes <br>\n",
    "<br>\n",
    "\n",
    "Binary categorical variables are: 'gender', 'currentSmoker', 'BPMeds', 'prevalentStroke', 'prevalentHyp', 'diabetes' <br><br> \n",
    "Multi-level categorical variable: 'education'<br>\n",
    "\n",
    "Rest of the variables are continuous numerical variables.\n",
    "\n",
    "7 of the 15 independent variables are categorical, including Gender, Education, CurrentSmoker, BPMeds, PrevalentStrok, PrevalentHyp, and Diabetes. <br>\n",
    "\n",
    "The target or class variable TenyearHeart is also categorical where 0 represents no heart disease in the next 10 year, while 1 represents occurrence of heart disease in the next 10 years. <br>"
   ]
  },
  {
   "cell_type": "code",
   "execution_count": 3,
   "id": "bb407eb8-ad88-4ebe-baa3-215eba69ca98",
   "metadata": {
    "tags": []
   },
   "outputs": [
    {
     "data": {
      "text/html": [
       "<div>\n",
       "<style scoped>\n",
       "    .dataframe tbody tr th:only-of-type {\n",
       "        vertical-align: middle;\n",
       "    }\n",
       "\n",
       "    .dataframe tbody tr th {\n",
       "        vertical-align: top;\n",
       "    }\n",
       "\n",
       "    .dataframe thead th {\n",
       "        text-align: right;\n",
       "    }\n",
       "</style>\n",
       "<table border=\"1\" class=\"dataframe\">\n",
       "  <thead>\n",
       "    <tr style=\"text-align: right;\">\n",
       "      <th></th>\n",
       "      <th>gender</th>\n",
       "      <th>age</th>\n",
       "      <th>education</th>\n",
       "      <th>currentSmoker</th>\n",
       "      <th>cigsPerDay</th>\n",
       "      <th>BPMeds</th>\n",
       "      <th>prevalentStroke</th>\n",
       "      <th>prevalentHyp</th>\n",
       "      <th>diabetes</th>\n",
       "      <th>totChol</th>\n",
       "      <th>sysBP</th>\n",
       "      <th>diaBP</th>\n",
       "      <th>BMI</th>\n",
       "      <th>heartRate</th>\n",
       "      <th>glucose</th>\n",
       "      <th>TenYearCHD</th>\n",
       "    </tr>\n",
       "  </thead>\n",
       "  <tbody>\n",
       "    <tr>\n",
       "      <th>0</th>\n",
       "      <td>1</td>\n",
       "      <td>39</td>\n",
       "      <td>4.0</td>\n",
       "      <td>0</td>\n",
       "      <td>0.0</td>\n",
       "      <td>0.0</td>\n",
       "      <td>0</td>\n",
       "      <td>0</td>\n",
       "      <td>0</td>\n",
       "      <td>195.0</td>\n",
       "      <td>106.0</td>\n",
       "      <td>70.0</td>\n",
       "      <td>26.97</td>\n",
       "      <td>80.0</td>\n",
       "      <td>77.0</td>\n",
       "      <td>0</td>\n",
       "    </tr>\n",
       "    <tr>\n",
       "      <th>1</th>\n",
       "      <td>0</td>\n",
       "      <td>46</td>\n",
       "      <td>2.0</td>\n",
       "      <td>0</td>\n",
       "      <td>0.0</td>\n",
       "      <td>0.0</td>\n",
       "      <td>0</td>\n",
       "      <td>0</td>\n",
       "      <td>0</td>\n",
       "      <td>250.0</td>\n",
       "      <td>121.0</td>\n",
       "      <td>81.0</td>\n",
       "      <td>28.73</td>\n",
       "      <td>95.0</td>\n",
       "      <td>76.0</td>\n",
       "      <td>0</td>\n",
       "    </tr>\n",
       "    <tr>\n",
       "      <th>2</th>\n",
       "      <td>1</td>\n",
       "      <td>48</td>\n",
       "      <td>1.0</td>\n",
       "      <td>1</td>\n",
       "      <td>20.0</td>\n",
       "      <td>0.0</td>\n",
       "      <td>0</td>\n",
       "      <td>0</td>\n",
       "      <td>0</td>\n",
       "      <td>245.0</td>\n",
       "      <td>127.5</td>\n",
       "      <td>80.0</td>\n",
       "      <td>25.34</td>\n",
       "      <td>75.0</td>\n",
       "      <td>70.0</td>\n",
       "      <td>0</td>\n",
       "    </tr>\n",
       "    <tr>\n",
       "      <th>3</th>\n",
       "      <td>0</td>\n",
       "      <td>61</td>\n",
       "      <td>3.0</td>\n",
       "      <td>1</td>\n",
       "      <td>30.0</td>\n",
       "      <td>0.0</td>\n",
       "      <td>0</td>\n",
       "      <td>1</td>\n",
       "      <td>0</td>\n",
       "      <td>225.0</td>\n",
       "      <td>150.0</td>\n",
       "      <td>95.0</td>\n",
       "      <td>28.58</td>\n",
       "      <td>65.0</td>\n",
       "      <td>103.0</td>\n",
       "      <td>1</td>\n",
       "    </tr>\n",
       "    <tr>\n",
       "      <th>4</th>\n",
       "      <td>0</td>\n",
       "      <td>46</td>\n",
       "      <td>3.0</td>\n",
       "      <td>1</td>\n",
       "      <td>23.0</td>\n",
       "      <td>0.0</td>\n",
       "      <td>0</td>\n",
       "      <td>0</td>\n",
       "      <td>0</td>\n",
       "      <td>285.0</td>\n",
       "      <td>130.0</td>\n",
       "      <td>84.0</td>\n",
       "      <td>23.10</td>\n",
       "      <td>85.0</td>\n",
       "      <td>85.0</td>\n",
       "      <td>0</td>\n",
       "    </tr>\n",
       "  </tbody>\n",
       "</table>\n",
       "</div>"
      ],
      "text/plain": [
       "   gender  age  education  currentSmoker  cigsPerDay  BPMeds  prevalentStroke  \\\n",
       "0       1   39        4.0              0         0.0     0.0                0   \n",
       "1       0   46        2.0              0         0.0     0.0                0   \n",
       "2       1   48        1.0              1        20.0     0.0                0   \n",
       "3       0   61        3.0              1        30.0     0.0                0   \n",
       "4       0   46        3.0              1        23.0     0.0                0   \n",
       "\n",
       "   prevalentHyp  diabetes  totChol  sysBP  diaBP    BMI  heartRate  glucose  \\\n",
       "0             0         0    195.0  106.0   70.0  26.97       80.0     77.0   \n",
       "1             0         0    250.0  121.0   81.0  28.73       95.0     76.0   \n",
       "2             0         0    245.0  127.5   80.0  25.34       75.0     70.0   \n",
       "3             1         0    225.0  150.0   95.0  28.58       65.0    103.0   \n",
       "4             0         0    285.0  130.0   84.0  23.10       85.0     85.0   \n",
       "\n",
       "   TenYearCHD  \n",
       "0           0  \n",
       "1           0  \n",
       "2           0  \n",
       "3           1  \n",
       "4           0  "
      ]
     },
     "execution_count": 3,
     "metadata": {},
     "output_type": "execute_result"
    }
   ],
   "source": [
    "# changed column name 'male' to 'gender'\n",
    "data1 = pd.DataFrame(data)\n",
    "df = data1.rename({'male':'gender'}, axis=1)\n",
    "df.head()"
   ]
  },
  {
   "cell_type": "markdown",
   "id": "83c648af-98b9-460f-92cd-0d06d7b163d7",
   "metadata": {},
   "source": [
    "### 2.2 Dataset description\n",
    "\n",
    "The data set consists of 4238 rows and 16 columns. <br><br>\n",
    "The number of fields 67808. The size is: rows * number of columns.<br><br>\n",
    "We can also view for the min and max values, the mean, standard deviation and quartiles values. The average age is 49 years old. The average consume of cigarettes per day is 9. The maximum number of cigarettes per day is 70. <br><br>\n",
    "No duplicate records were found in the data. <br><br>\n",
    "There were some missing values in the data and the highest percentage of missing values in one column was 9%, which is not too high. To avoid the loss of useful information, the records with missing values were not removed and the missing values were filled with the mean of each feature. This method was used because the data for some of the categorical variables is skewed and filling the values with mean was the simplest and safest option. \n"
   ]
  },
  {
   "cell_type": "code",
   "execution_count": 4,
   "id": "42d83873-081f-4abc-a11e-921306a62cdd",
   "metadata": {
    "tags": []
   },
   "outputs": [
    {
     "data": {
      "text/plain": [
       "(4238, 16)"
      ]
     },
     "execution_count": 4,
     "metadata": {},
     "output_type": "execute_result"
    }
   ],
   "source": [
    "df.shape"
   ]
  },
  {
   "cell_type": "code",
   "execution_count": 5,
   "id": "afa37bf3-34fd-4954-ad10-d10fa4d1031b",
   "metadata": {
    "tags": []
   },
   "outputs": [
    {
     "data": {
      "text/plain": [
       "67808"
      ]
     },
     "execution_count": 5,
     "metadata": {},
     "output_type": "execute_result"
    }
   ],
   "source": [
    "df.size"
   ]
  },
  {
   "cell_type": "code",
   "execution_count": 6,
   "id": "7987844b-4ea9-43c4-baa9-089edf2f5924",
   "metadata": {
    "tags": []
   },
   "outputs": [
    {
     "data": {
      "text/html": [
       "<div>\n",
       "<style scoped>\n",
       "    .dataframe tbody tr th:only-of-type {\n",
       "        vertical-align: middle;\n",
       "    }\n",
       "\n",
       "    .dataframe tbody tr th {\n",
       "        vertical-align: top;\n",
       "    }\n",
       "\n",
       "    .dataframe thead th {\n",
       "        text-align: right;\n",
       "    }\n",
       "</style>\n",
       "<table border=\"1\" class=\"dataframe\">\n",
       "  <thead>\n",
       "    <tr style=\"text-align: right;\">\n",
       "      <th></th>\n",
       "      <th>count</th>\n",
       "      <th>mean</th>\n",
       "      <th>std</th>\n",
       "      <th>min</th>\n",
       "      <th>25%</th>\n",
       "      <th>50%</th>\n",
       "      <th>75%</th>\n",
       "      <th>max</th>\n",
       "    </tr>\n",
       "  </thead>\n",
       "  <tbody>\n",
       "    <tr>\n",
       "      <th>gender</th>\n",
       "      <td>4238.0</td>\n",
       "      <td>0.429212</td>\n",
       "      <td>0.495022</td>\n",
       "      <td>0.00</td>\n",
       "      <td>0.00</td>\n",
       "      <td>0.0</td>\n",
       "      <td>1.000</td>\n",
       "      <td>1.0</td>\n",
       "    </tr>\n",
       "    <tr>\n",
       "      <th>age</th>\n",
       "      <td>4238.0</td>\n",
       "      <td>49.584946</td>\n",
       "      <td>8.572160</td>\n",
       "      <td>32.00</td>\n",
       "      <td>42.00</td>\n",
       "      <td>49.0</td>\n",
       "      <td>56.000</td>\n",
       "      <td>70.0</td>\n",
       "    </tr>\n",
       "    <tr>\n",
       "      <th>education</th>\n",
       "      <td>4133.0</td>\n",
       "      <td>1.978950</td>\n",
       "      <td>1.019791</td>\n",
       "      <td>1.00</td>\n",
       "      <td>1.00</td>\n",
       "      <td>2.0</td>\n",
       "      <td>3.000</td>\n",
       "      <td>4.0</td>\n",
       "    </tr>\n",
       "    <tr>\n",
       "      <th>currentSmoker</th>\n",
       "      <td>4238.0</td>\n",
       "      <td>0.494101</td>\n",
       "      <td>0.500024</td>\n",
       "      <td>0.00</td>\n",
       "      <td>0.00</td>\n",
       "      <td>0.0</td>\n",
       "      <td>1.000</td>\n",
       "      <td>1.0</td>\n",
       "    </tr>\n",
       "    <tr>\n",
       "      <th>cigsPerDay</th>\n",
       "      <td>4209.0</td>\n",
       "      <td>9.003089</td>\n",
       "      <td>11.920094</td>\n",
       "      <td>0.00</td>\n",
       "      <td>0.00</td>\n",
       "      <td>0.0</td>\n",
       "      <td>20.000</td>\n",
       "      <td>70.0</td>\n",
       "    </tr>\n",
       "    <tr>\n",
       "      <th>BPMeds</th>\n",
       "      <td>4185.0</td>\n",
       "      <td>0.029630</td>\n",
       "      <td>0.169584</td>\n",
       "      <td>0.00</td>\n",
       "      <td>0.00</td>\n",
       "      <td>0.0</td>\n",
       "      <td>0.000</td>\n",
       "      <td>1.0</td>\n",
       "    </tr>\n",
       "    <tr>\n",
       "      <th>prevalentStroke</th>\n",
       "      <td>4238.0</td>\n",
       "      <td>0.005899</td>\n",
       "      <td>0.076587</td>\n",
       "      <td>0.00</td>\n",
       "      <td>0.00</td>\n",
       "      <td>0.0</td>\n",
       "      <td>0.000</td>\n",
       "      <td>1.0</td>\n",
       "    </tr>\n",
       "    <tr>\n",
       "      <th>prevalentHyp</th>\n",
       "      <td>4238.0</td>\n",
       "      <td>0.310524</td>\n",
       "      <td>0.462763</td>\n",
       "      <td>0.00</td>\n",
       "      <td>0.00</td>\n",
       "      <td>0.0</td>\n",
       "      <td>1.000</td>\n",
       "      <td>1.0</td>\n",
       "    </tr>\n",
       "    <tr>\n",
       "      <th>diabetes</th>\n",
       "      <td>4238.0</td>\n",
       "      <td>0.025720</td>\n",
       "      <td>0.158316</td>\n",
       "      <td>0.00</td>\n",
       "      <td>0.00</td>\n",
       "      <td>0.0</td>\n",
       "      <td>0.000</td>\n",
       "      <td>1.0</td>\n",
       "    </tr>\n",
       "    <tr>\n",
       "      <th>totChol</th>\n",
       "      <td>4188.0</td>\n",
       "      <td>236.721585</td>\n",
       "      <td>44.590334</td>\n",
       "      <td>107.00</td>\n",
       "      <td>206.00</td>\n",
       "      <td>234.0</td>\n",
       "      <td>263.000</td>\n",
       "      <td>696.0</td>\n",
       "    </tr>\n",
       "    <tr>\n",
       "      <th>sysBP</th>\n",
       "      <td>4238.0</td>\n",
       "      <td>132.352407</td>\n",
       "      <td>22.038097</td>\n",
       "      <td>83.50</td>\n",
       "      <td>117.00</td>\n",
       "      <td>128.0</td>\n",
       "      <td>144.000</td>\n",
       "      <td>295.0</td>\n",
       "    </tr>\n",
       "    <tr>\n",
       "      <th>diaBP</th>\n",
       "      <td>4238.0</td>\n",
       "      <td>82.893464</td>\n",
       "      <td>11.910850</td>\n",
       "      <td>48.00</td>\n",
       "      <td>75.00</td>\n",
       "      <td>82.0</td>\n",
       "      <td>89.875</td>\n",
       "      <td>142.5</td>\n",
       "    </tr>\n",
       "    <tr>\n",
       "      <th>BMI</th>\n",
       "      <td>4219.0</td>\n",
       "      <td>25.802008</td>\n",
       "      <td>4.080111</td>\n",
       "      <td>15.54</td>\n",
       "      <td>23.07</td>\n",
       "      <td>25.4</td>\n",
       "      <td>28.040</td>\n",
       "      <td>56.8</td>\n",
       "    </tr>\n",
       "    <tr>\n",
       "      <th>heartRate</th>\n",
       "      <td>4237.0</td>\n",
       "      <td>75.878924</td>\n",
       "      <td>12.026596</td>\n",
       "      <td>44.00</td>\n",
       "      <td>68.00</td>\n",
       "      <td>75.0</td>\n",
       "      <td>83.000</td>\n",
       "      <td>143.0</td>\n",
       "    </tr>\n",
       "    <tr>\n",
       "      <th>glucose</th>\n",
       "      <td>3850.0</td>\n",
       "      <td>81.966753</td>\n",
       "      <td>23.959998</td>\n",
       "      <td>40.00</td>\n",
       "      <td>71.00</td>\n",
       "      <td>78.0</td>\n",
       "      <td>87.000</td>\n",
       "      <td>394.0</td>\n",
       "    </tr>\n",
       "    <tr>\n",
       "      <th>TenYearCHD</th>\n",
       "      <td>4238.0</td>\n",
       "      <td>0.151958</td>\n",
       "      <td>0.359023</td>\n",
       "      <td>0.00</td>\n",
       "      <td>0.00</td>\n",
       "      <td>0.0</td>\n",
       "      <td>0.000</td>\n",
       "      <td>1.0</td>\n",
       "    </tr>\n",
       "  </tbody>\n",
       "</table>\n",
       "</div>"
      ],
      "text/plain": [
       "                  count        mean        std     min     25%    50%  \\\n",
       "gender           4238.0    0.429212   0.495022    0.00    0.00    0.0   \n",
       "age              4238.0   49.584946   8.572160   32.00   42.00   49.0   \n",
       "education        4133.0    1.978950   1.019791    1.00    1.00    2.0   \n",
       "currentSmoker    4238.0    0.494101   0.500024    0.00    0.00    0.0   \n",
       "cigsPerDay       4209.0    9.003089  11.920094    0.00    0.00    0.0   \n",
       "BPMeds           4185.0    0.029630   0.169584    0.00    0.00    0.0   \n",
       "prevalentStroke  4238.0    0.005899   0.076587    0.00    0.00    0.0   \n",
       "prevalentHyp     4238.0    0.310524   0.462763    0.00    0.00    0.0   \n",
       "diabetes         4238.0    0.025720   0.158316    0.00    0.00    0.0   \n",
       "totChol          4188.0  236.721585  44.590334  107.00  206.00  234.0   \n",
       "sysBP            4238.0  132.352407  22.038097   83.50  117.00  128.0   \n",
       "diaBP            4238.0   82.893464  11.910850   48.00   75.00   82.0   \n",
       "BMI              4219.0   25.802008   4.080111   15.54   23.07   25.4   \n",
       "heartRate        4237.0   75.878924  12.026596   44.00   68.00   75.0   \n",
       "glucose          3850.0   81.966753  23.959998   40.00   71.00   78.0   \n",
       "TenYearCHD       4238.0    0.151958   0.359023    0.00    0.00    0.0   \n",
       "\n",
       "                     75%    max  \n",
       "gender             1.000    1.0  \n",
       "age               56.000   70.0  \n",
       "education          3.000    4.0  \n",
       "currentSmoker      1.000    1.0  \n",
       "cigsPerDay        20.000   70.0  \n",
       "BPMeds             0.000    1.0  \n",
       "prevalentStroke    0.000    1.0  \n",
       "prevalentHyp       1.000    1.0  \n",
       "diabetes           0.000    1.0  \n",
       "totChol          263.000  696.0  \n",
       "sysBP            144.000  295.0  \n",
       "diaBP             89.875  142.5  \n",
       "BMI               28.040   56.8  \n",
       "heartRate         83.000  143.0  \n",
       "glucose           87.000  394.0  \n",
       "TenYearCHD         0.000    1.0  "
      ]
     },
     "execution_count": 6,
     "metadata": {},
     "output_type": "execute_result"
    }
   ],
   "source": [
    "df.describe().transpose()"
   ]
  },
  {
   "cell_type": "code",
   "execution_count": 7,
   "id": "a98ed0b8-4392-493f-bfeb-06d4d3e55e3d",
   "metadata": {
    "tags": []
   },
   "outputs": [
    {
     "name": "stdout",
     "output_type": "stream",
     "text": [
      "<class 'pandas.core.frame.DataFrame'>\n",
      "RangeIndex: 4238 entries, 0 to 4237\n",
      "Data columns (total 16 columns):\n",
      " #   Column           Non-Null Count  Dtype  \n",
      "---  ------           --------------  -----  \n",
      " 0   gender           4238 non-null   int64  \n",
      " 1   age              4238 non-null   int64  \n",
      " 2   education        4133 non-null   float64\n",
      " 3   currentSmoker    4238 non-null   int64  \n",
      " 4   cigsPerDay       4209 non-null   float64\n",
      " 5   BPMeds           4185 non-null   float64\n",
      " 6   prevalentStroke  4238 non-null   int64  \n",
      " 7   prevalentHyp     4238 non-null   int64  \n",
      " 8   diabetes         4238 non-null   int64  \n",
      " 9   totChol          4188 non-null   float64\n",
      " 10  sysBP            4238 non-null   float64\n",
      " 11  diaBP            4238 non-null   float64\n",
      " 12  BMI              4219 non-null   float64\n",
      " 13  heartRate        4237 non-null   float64\n",
      " 14  glucose          3850 non-null   float64\n",
      " 15  TenYearCHD       4238 non-null   int64  \n",
      "dtypes: float64(9), int64(7)\n",
      "memory usage: 529.9 KB\n"
     ]
    }
   ],
   "source": [
    "df.info()"
   ]
  },
  {
   "cell_type": "code",
   "execution_count": 8,
   "id": "26dbd150-07e3-4d67-b442-9e6773bcb43f",
   "metadata": {
    "tags": []
   },
   "outputs": [
    {
     "name": "stdout",
     "output_type": "stream",
     "text": [
      "0\n"
     ]
    }
   ],
   "source": [
    "# check if there are any duplicate records\n",
    "dupl_check = df[df.duplicated()]\n",
    "\n",
    "print(dupl_check.duplicated().sum())\n",
    "# no duplicate records found"
   ]
  },
  {
   "cell_type": "markdown",
   "id": "bb2254fa-142d-49d1-94a7-d8db8a234833",
   "metadata": {},
   "source": [
    "### 2.3 DATA VISUALISATION\n",
    "\n",
    "#### 2.3.1. Histograms of all variables\n",
    "\n",
    "The histogram of all variables let us see right skweness distribution in the cigarettes per day, glucoe, heartrate, totchol, systolic blood preasure (sysBP) and in the BMI. Also some variables like BPMeds, prevalent Stroke, diabetes and TenyearsCHD have high values in just one option(\"0\" or \"No\"). The distribution of age variable is uniform."
   ]
  },
  {
   "cell_type": "code",
   "execution_count": 9,
   "id": "98a575d7-238a-48bf-9e6b-4d943b58be42",
   "metadata": {
    "tags": []
   },
   "outputs": [
    {
     "data": {
      "image/png": "[encoded data removed]",
      "text/plain": [
       "<Figure size 864x864 with 16 Axes>"
      ]
     },
     "metadata": {},
     "output_type": "display_data"
    }
   ],
   "source": [
    "plt.rcParams['figure.figsize'] = (12.0, 12.0)\n",
    "df.hist(edgecolor='black')\n",
    "plt.suptitle(\"\\nFigure 1.\\n Histogram of all variables\", fontname=\"Cambria\", fontsize=20)\n",
    "plt.show()"
   ]
  },
  {
   "cell_type": "markdown",
   "id": "281f995f-af00-4a40-a961-e4454cab48db",
   "metadata": {},
   "source": [
    "#### 2.3.2. Box plots of independent variables\n",
    "\n",
    "\n",
    "The boxplot grpah of all the variables show the variables outliers, totchol variable has a notable outlier. Almost all the variables has outliers."
   ]
  },
  {
   "cell_type": "code",
   "execution_count": 10,
   "id": "06d4218a-1e4f-4f6e-bb5f-f77b73bc4855",
   "metadata": {
    "tags": []
   },
   "outputs": [
    {
     "data": {
      "text/plain": [
       "Text(0.5, 1.0, 'Figure 2. Box plots - Independent Variables')"
      ]
     },
     "execution_count": 10,
     "metadata": {},
     "output_type": "execute_result"
    },
    {
     "data": {
      "image/png": "[encoded data removed]",
      "text/plain": [
       "<Figure size 720x576 with 1 Axes>"
      ]
     },
     "metadata": {},
     "output_type": "display_data"
    }
   ],
   "source": [
    "pred_df = df.loc[:, 'gender' : 'glucose']\n",
    "plt.figure(figsize=(10, 8))  \n",
    "pred_df.boxplot(fontsize=14)\n",
    "plt.xticks(rotation = 90)\n",
    "plt.title(\"Figure 2. Box plots - Independent Variables\", fontname=\"Cambria\", fontsize=18)"
   ]
  },
  {
   "cell_type": "markdown",
   "id": "db74a793-4997-4cc8-9085-a0a16634e29b",
   "metadata": {},
   "source": [
    "#### 2.3.3. Dependent Variable Distribution\n",
    "\n",
    "Figure 3 shows distribution of the dependent variable showing the number of people who had CVD in a ten year time period. It shows that a much larger number of people did not have CVD compared to those that did. It suggests class imbalance which will be taken into account during further analysis and model development.  "
   ]
  },
  {
   "cell_type": "code",
   "execution_count": 11,
   "id": "d9b1a2be",
   "metadata": {},
   "outputs": [
    {
     "data": {
      "text/plain": [
       "[Text(0, 0, 'Non CVD'), Text(1, 0, 'CVD')]"
      ]
     },
     "execution_count": 11,
     "metadata": {},
     "output_type": "execute_result"
    },
    {
     "data": {
      "image/png": "[encoded data removed]",
      "text/plain": [
       "<Figure size 504x360 with 1 Axes>"
      ]
     },
     "metadata": {},
     "output_type": "display_data"
    }
   ],
   "source": [
    "fig = plt.figure(figsize = (7,5))\n",
    "fig.suptitle(\"Figure 3. Quantity of person with CVD and non CVD\", fontname=\"Cambria\", fontsize=18)\n",
    "\n",
    "ax=sns.countplot(x = df.TenYearCHD, data= df)\n",
    "ax.set_xticklabels(['Non CVD', 'CVD'], ha=\"right\")"
   ]
  },
  {
   "cell_type": "markdown",
   "id": "38c9b5f5-f316-4528-9aa5-7935e24c6058",
   "metadata": {},
   "source": [
    "#### 2.3.4. Class Distribution by Gender\n",
    "\n",
    "The graph of people that is going to suffer CVD and not (TenYearCHD) by sex shows more women that are not going to suffer CVD. The males has a slightly greater amount of CVD suffering than women.\n"
   ]
  },
  {
   "cell_type": "code",
   "execution_count": 12,
   "id": "203dd938",
   "metadata": {},
   "outputs": [
    {
     "data": {
      "text/plain": [
       "Text(0.5, 1.0, 'Figure 4. Quantity of person with CVD and non CVD by sex')"
      ]
     },
     "execution_count": 12,
     "metadata": {},
     "output_type": "execute_result"
    },
    {
     "data": {
      "text/plain": [
       "<Figure size 720x504 with 0 Axes>"
      ]
     },
     "metadata": {},
     "output_type": "display_data"
    },
    {
     "data": {
      "image/png": "[encoded data removed]",
      "text/plain": [
       "<Figure size 864x864 with 1 Axes>"
      ]
     },
     "metadata": {},
     "output_type": "display_data"
    }
   ],
   "source": [
    "fig = plt.figure(figsize = (10,7))\n",
    "ax1 = df.groupby(['TenYearCHD'])['gender'].value_counts().unstack().plot(kind='bar')\n",
    "ax1.set_xticklabels(['Non CVD', 'CVD'])\n",
    "ax1.legend(['Female', 'Male'])\n",
    "plt.title(\"Figure 4. Quantity of person with CVD and non CVD by sex\", fontname=\"Cambria\", fontsize=18)"
   ]
  },
  {
   "cell_type": "markdown",
   "id": "f6ba791f-0c78-44b2-8638-a9f51df616e7",
   "metadata": {},
   "source": [
    "#### 2.3.4. Class distribution with respect to some of the other variables\n",
    "\n",
    "\n",
    "The graph of people that is going to suffer CVD by topics(smoke, cholesterol, Blood presure medication, prevalent stroke and hypertention) shows a high quantity of current smokers with the Non CVD value also the patients with hypertention shows a high value of Non CVD values. this can be explained for the imbalanced class."
   ]
  },
  {
   "cell_type": "code",
   "execution_count": 13,
   "id": "fa333d3e",
   "metadata": {},
   "outputs": [
    {
     "data": {
      "text/plain": [
       "Text(0.5, 1.0, 'Figure 5. Quantity of person with CVD and non CVD by main topic')"
      ]
     },
     "execution_count": 13,
     "metadata": {},
     "output_type": "execute_result"
    },
    {
     "data": {
      "text/plain": [
       "<Figure size 144x144 with 0 Axes>"
      ]
     },
     "metadata": {},
     "output_type": "display_data"
    },
    {
     "data": {
      "image/png": "[encoded data removed]",
      "text/plain": [
       "<Figure size 864x864 with 1 Axes>"
      ]
     },
     "metadata": {},
     "output_type": "display_data"
    }
   ],
   "source": [
    "fig = plt.figure(figsize = (2, 2))\n",
    "\n",
    "\n",
    "dg=df[['TenYearCHD','currentSmoker', 'BPMeds','prevalentStroke', 'prevalentHyp', 'diabetes' ]]\n",
    "df_g=dg.groupby('TenYearCHD').sum()\n",
    "df_g=df_g.reset_index().T\n",
    "df_g=df_g.drop('TenYearCHD')\n",
    "ax2=df_g.plot(kind='bar')\n",
    "ax2.legend(['Non CVD', 'CVD'])\n",
    "plt.title(\"Figure 5. Quantity of person with CVD and non CVD by main topic\", fontname=\"Cambria\", fontsize=18)\n"
   ]
  },
  {
   "cell_type": "markdown",
   "id": "af3190e2-7a0b-41cd-9ac7-eb9087a285ff",
   "metadata": {},
   "source": [
    "### 3. Data Cleaning & Pre-processing\n",
    "\n",
    "#### 3.1. Treating Missing Values\n",
    "\n",
    "There are missing values in the data and the highest percentage of missing values in a column is 9%, while the percentage of all missing values is 15.21% in the whole data set. To avoid the loss of useful information, the records with missing values were not removed and the missing values were filled with the mean of each feature. This method was used because the data for some of the categorical variables is skewed and filling the values with mean was the simplest and safest option.   "
   ]
  },
  {
   "cell_type": "code",
   "execution_count": 14,
   "id": "e6dcb66c-0cc2-4eac-ab6c-ab6577c14003",
   "metadata": {
    "tags": []
   },
   "outputs": [
    {
     "data": {
      "text/plain": [
       "True"
      ]
     },
     "execution_count": 14,
     "metadata": {},
     "output_type": "execute_result"
    }
   ],
   "source": [
    "# checking for null values\n",
    "df.isnull().any().any()"
   ]
  },
  {
   "cell_type": "code",
   "execution_count": 15,
   "id": "f93c3454-c4b3-4db1-8e18-45fdda670ba2",
   "metadata": {
    "tags": []
   },
   "outputs": [
    {
     "data": {
      "text/plain": [
       "645"
      ]
     },
     "execution_count": 15,
     "metadata": {},
     "output_type": "execute_result"
    }
   ],
   "source": [
    "# total null values\n",
    "df.isnull().sum().sum()"
   ]
  },
  {
   "cell_type": "code",
   "execution_count": 16,
   "id": "5ea06ca2-1908-4978-98f7-dbbe4039545c",
   "metadata": {},
   "outputs": [
    {
     "data": {
      "text/plain": [
       "15.219443133553561"
      ]
     },
     "execution_count": 16,
     "metadata": {},
     "output_type": "execute_result"
    }
   ],
   "source": [
    "# null values as percentage of total values in the data set\n",
    "df.isnull().sum().sum()/(len(df))*100"
   ]
  },
  {
   "cell_type": "code",
   "execution_count": 17,
   "id": "452976e9-efc2-439d-bb88-9e62b0da5e42",
   "metadata": {
    "tags": []
   },
   "outputs": [
    {
     "data": {
      "text/plain": [
       "Index(['education', 'cigsPerDay', 'BPMeds', 'totChol', 'BMI', 'heartRate',\n",
       "       'glucose'],\n",
       "      dtype='object')"
      ]
     },
     "execution_count": 17,
     "metadata": {},
     "output_type": "execute_result"
    }
   ],
   "source": [
    "# Check which columns have missing values\n",
    "df.loc[:, df.isnull().any()].columns"
   ]
  },
  {
   "cell_type": "code",
   "execution_count": 18,
   "id": "7acfc282-bc5f-4d5d-b3c4-334356882fba",
   "metadata": {
    "tags": []
   },
   "outputs": [
    {
     "data": {
      "text/plain": [
       "glucose       388\n",
       "education     105\n",
       "BPMeds         53\n",
       "totChol        50\n",
       "cigsPerDay     29\n",
       "BMI            19\n",
       "heartRate       1\n",
       "gender          0\n",
       "dtype: int64"
      ]
     },
     "execution_count": 18,
     "metadata": {},
     "output_type": "execute_result"
    }
   ],
   "source": [
    "# Calculate total number of missing values in each column \n",
    "# columns with missing values sorted in descending order of total missing values\n",
    "\n",
    "find_missing = df.isnull().sum().sort_values(ascending=False)\n",
    "find_missing.head(8)"
   ]
  },
  {
   "cell_type": "code",
   "execution_count": 19,
   "id": "407138f3-0ad2-4b6b-b0bd-4e2152a6d617",
   "metadata": {},
   "outputs": [
    {
     "data": {
      "text/plain": [
       "glucose       9.155262\n",
       "education     2.477584\n",
       "BPMeds        1.250590\n",
       "totChol       1.179802\n",
       "cigsPerDay    0.684285\n",
       "BMI           0.448325\n",
       "heartRate     0.023596\n",
       "gender        0.000000\n",
       "dtype: float64"
      ]
     },
     "execution_count": 19,
     "metadata": {},
     "output_type": "execute_result"
    }
   ],
   "source": [
    "# Calculate percentage of missing values in each column, \n",
    "# columns sorted in descending order of % missing values\n",
    "\n",
    "missing_percent = find_missing/(len(df))*100\n",
    "missing_percent.head(8)"
   ]
  },
  {
   "cell_type": "code",
   "execution_count": 20,
   "id": "1b87151e-91dd-41cc-b60b-158d6b3a67a4",
   "metadata": {},
   "outputs": [
    {
     "data": {
      "text/plain": [
       "False"
      ]
     },
     "execution_count": 20,
     "metadata": {},
     "output_type": "execute_result"
    }
   ],
   "source": [
    "# Fill in the missing values using median of each variable\n",
    "df_all = df.fillna(df.median())\n",
    "# Check if all missing values have been filled\n",
    "df_all.isnull().any().any()"
   ]
  },
  {
   "cell_type": "code",
   "execution_count": 21,
   "id": "999ba18b-fc1a-47b1-851c-afba5bd3137d",
   "metadata": {
    "tags": []
   },
   "outputs": [
    {
     "name": "stdout",
     "output_type": "stream",
     "text": [
      "(4238, 8) \n",
      "\n",
      "                  0       1       2       3      4\n",
      "age          39.00   46.00   48.00   61.00   46.0\n",
      "cigsPerDay    0.00    0.00   20.00   30.00   23.0\n",
      "totChol     195.00  250.00  245.00  225.00  285.0\n",
      "sysBP       106.00  121.00  127.50  150.00  130.0\n",
      "diaBP        70.00   81.00   80.00   95.00   84.0\n",
      "BMI          26.97   28.73   25.34   28.58   23.1\n",
      "heartRate    80.00   95.00   75.00   65.00   85.0\n",
      "glucose      77.00   76.00   70.00  103.00   85.0\n"
     ]
    }
   ],
   "source": [
    "# make separate dataframes for continuous and categorical variables\n",
    "\n",
    "df_cont = df_all.drop(['gender', 'currentSmoker', 'BPMeds', 'prevalentStroke', \n",
    "                       'prevalentHyp', 'diabetes', 'education', 'TenYearCHD'], axis=1)\n",
    "print(df_cont.shape, '\\n\\n', df_cont.head().transpose())"
   ]
  },
  {
   "cell_type": "code",
   "execution_count": 22,
   "id": "79686cb7-63ff-4f64-bcd2-4489b448d6e8",
   "metadata": {
    "tags": []
   },
   "outputs": [
    {
     "name": "stdout",
     "output_type": "stream",
     "text": [
      "(4238, 7) \n",
      "\n",
      "                    0    1    2    3    4\n",
      "gender           1.0  0.0  1.0  0.0  0.0\n",
      "education        4.0  2.0  1.0  3.0  3.0\n",
      "currentSmoker    0.0  0.0  1.0  1.0  1.0\n",
      "BPMeds           0.0  0.0  0.0  0.0  0.0\n",
      "prevalentStroke  0.0  0.0  0.0  0.0  0.0\n",
      "prevalentHyp     0.0  0.0  0.0  1.0  0.0\n",
      "diabetes         0.0  0.0  0.0  0.0  0.0\n"
     ]
    }
   ],
   "source": [
    "# make separate dataframe of all the binary categorical variables\n",
    "\n",
    "df_categ = df_all.drop(['age', 'cigsPerDay', 'totChol', 'sysBP', 'diaBP', 'BMI', \n",
    "                        'heartRate', 'glucose', 'TenYearCHD'], axis =1)\n",
    "print(df_categ.shape, '\\n\\n', df_categ.head().transpose())"
   ]
  },
  {
   "cell_type": "markdown",
   "id": "155804ae-747b-4e7d-a2aa-b54f8b286828",
   "metadata": {},
   "source": [
    "#### 3.1. Ordinal Encoding for multi-category variable 'education'\n",
    "\n",
    "Ordinal encoding was used to transform the feaute 'education' from a multi-category to a binary categorical variable.<br>\n",
    "A new column 'edu' was added to the dataframe and the values were mapped to the education column as follows:<br>\n",
    "Categories 1 and 2 were replaced with 1.<br>\n",
    "Categories 3 and 4 were replaced with 0."
   ]
  },
  {
   "cell_type": "code",
   "execution_count": 23,
   "id": "3061a556-bbec-46af-a078-abdacca955ea",
   "metadata": {
    "tags": []
   },
   "outputs": [
    {
     "data": {
      "text/html": [
       "<div>\n",
       "<style scoped>\n",
       "    .dataframe tbody tr th:only-of-type {\n",
       "        vertical-align: middle;\n",
       "    }\n",
       "\n",
       "    .dataframe tbody tr th {\n",
       "        vertical-align: top;\n",
       "    }\n",
       "\n",
       "    .dataframe thead th {\n",
       "        text-align: right;\n",
       "    }\n",
       "</style>\n",
       "<table border=\"1\" class=\"dataframe\">\n",
       "  <thead>\n",
       "    <tr style=\"text-align: right;\">\n",
       "      <th></th>\n",
       "      <th>gender</th>\n",
       "      <th>currentSmoker</th>\n",
       "      <th>BPMeds</th>\n",
       "      <th>prevalentStroke</th>\n",
       "      <th>prevalentHyp</th>\n",
       "      <th>diabetes</th>\n",
       "      <th>edu</th>\n",
       "    </tr>\n",
       "  </thead>\n",
       "  <tbody>\n",
       "    <tr>\n",
       "      <th>0</th>\n",
       "      <td>1</td>\n",
       "      <td>0</td>\n",
       "      <td>0.0</td>\n",
       "      <td>0</td>\n",
       "      <td>0</td>\n",
       "      <td>0</td>\n",
       "      <td>0</td>\n",
       "    </tr>\n",
       "    <tr>\n",
       "      <th>1</th>\n",
       "      <td>0</td>\n",
       "      <td>0</td>\n",
       "      <td>0.0</td>\n",
       "      <td>0</td>\n",
       "      <td>0</td>\n",
       "      <td>0</td>\n",
       "      <td>1</td>\n",
       "    </tr>\n",
       "    <tr>\n",
       "      <th>2</th>\n",
       "      <td>1</td>\n",
       "      <td>1</td>\n",
       "      <td>0.0</td>\n",
       "      <td>0</td>\n",
       "      <td>0</td>\n",
       "      <td>0</td>\n",
       "      <td>1</td>\n",
       "    </tr>\n",
       "    <tr>\n",
       "      <th>3</th>\n",
       "      <td>0</td>\n",
       "      <td>1</td>\n",
       "      <td>0.0</td>\n",
       "      <td>0</td>\n",
       "      <td>1</td>\n",
       "      <td>0</td>\n",
       "      <td>0</td>\n",
       "    </tr>\n",
       "    <tr>\n",
       "      <th>4</th>\n",
       "      <td>0</td>\n",
       "      <td>1</td>\n",
       "      <td>0.0</td>\n",
       "      <td>0</td>\n",
       "      <td>0</td>\n",
       "      <td>0</td>\n",
       "      <td>0</td>\n",
       "    </tr>\n",
       "  </tbody>\n",
       "</table>\n",
       "</div>"
      ],
      "text/plain": [
       "   gender  currentSmoker  BPMeds  prevalentStroke  prevalentHyp  diabetes  edu\n",
       "0       1              0     0.0                0             0         0    0\n",
       "1       0              0     0.0                0             0         0    1\n",
       "2       1              1     0.0                0             0         0    1\n",
       "3       0              1     0.0                0             1         0    0\n",
       "4       0              1     0.0                0             0         0    0"
      ]
     },
     "execution_count": 23,
     "metadata": {},
     "output_type": "execute_result"
    }
   ],
   "source": [
    "# make a dictionary with all category values as keys, \n",
    "#and the value each key should be replaced with.\n",
    "\n",
    "edu_dict = {1 : 1, \n",
    "         2 : 1,\n",
    "         3 : 0,\n",
    "         4 : 0}\n",
    "\n",
    "\n",
    "df_categ['edu'] = df_categ.education.map(edu_dict)\n",
    "# df_categ.head().transpose()\n",
    "\n",
    "# make a new dataframe in which with all categorical variables are binary\n",
    "\n",
    "all_cats = df_categ.drop(['education'], axis=1)\n",
    "all_cats.head()"
   ]
  },
  {
   "cell_type": "markdown",
   "id": "49049d8b-d4a4-4cbe-aa56-b7c60eb3d7c9",
   "metadata": {},
   "source": [
    "#### 3.2. Standardization of continuous variables\n",
    "\n",
    "Continuous variables were standardized using the MinMaxScaler, to transform them so that all their values lie in the range of 0 to 1. This was done to make sure that all variables including the categorical ones have values on a similar scale so that the results are not biased towards variables with larger values showing larger variations. "
   ]
  },
  {
   "cell_type": "code",
   "execution_count": 24,
   "id": "95d32430-7a59-4ba8-b1d6-80f56d725bdc",
   "metadata": {},
   "outputs": [
    {
     "data": {
      "text/html": [
       "<div>\n",
       "<style scoped>\n",
       "    .dataframe tbody tr th:only-of-type {\n",
       "        vertical-align: middle;\n",
       "    }\n",
       "\n",
       "    .dataframe tbody tr th {\n",
       "        vertical-align: top;\n",
       "    }\n",
       "\n",
       "    .dataframe thead th {\n",
       "        text-align: right;\n",
       "    }\n",
       "</style>\n",
       "<table border=\"1\" class=\"dataframe\">\n",
       "  <thead>\n",
       "    <tr style=\"text-align: right;\">\n",
       "      <th></th>\n",
       "      <th>0</th>\n",
       "      <th>1</th>\n",
       "      <th>2</th>\n",
       "      <th>3</th>\n",
       "      <th>4</th>\n",
       "      <th>5</th>\n",
       "      <th>6</th>\n",
       "      <th>7</th>\n",
       "    </tr>\n",
       "  </thead>\n",
       "  <tbody>\n",
       "    <tr>\n",
       "      <th>0</th>\n",
       "      <td>0.184211</td>\n",
       "      <td>0.000000</td>\n",
       "      <td>0.149406</td>\n",
       "      <td>0.106383</td>\n",
       "      <td>0.232804</td>\n",
       "      <td>0.277024</td>\n",
       "      <td>0.363636</td>\n",
       "      <td>0.104520</td>\n",
       "    </tr>\n",
       "    <tr>\n",
       "      <th>1</th>\n",
       "      <td>0.368421</td>\n",
       "      <td>0.000000</td>\n",
       "      <td>0.242784</td>\n",
       "      <td>0.177305</td>\n",
       "      <td>0.349206</td>\n",
       "      <td>0.319680</td>\n",
       "      <td>0.515152</td>\n",
       "      <td>0.101695</td>\n",
       "    </tr>\n",
       "    <tr>\n",
       "      <th>2</th>\n",
       "      <td>0.421053</td>\n",
       "      <td>0.285714</td>\n",
       "      <td>0.234295</td>\n",
       "      <td>0.208038</td>\n",
       "      <td>0.338624</td>\n",
       "      <td>0.237518</td>\n",
       "      <td>0.313131</td>\n",
       "      <td>0.084746</td>\n",
       "    </tr>\n",
       "    <tr>\n",
       "      <th>3</th>\n",
       "      <td>0.763158</td>\n",
       "      <td>0.428571</td>\n",
       "      <td>0.200340</td>\n",
       "      <td>0.314421</td>\n",
       "      <td>0.497354</td>\n",
       "      <td>0.316045</td>\n",
       "      <td>0.212121</td>\n",
       "      <td>0.177966</td>\n",
       "    </tr>\n",
       "  </tbody>\n",
       "</table>\n",
       "</div>"
      ],
      "text/plain": [
       "          0         1         2         3         4         5         6  \\\n",
       "0  0.184211  0.000000  0.149406  0.106383  0.232804  0.277024  0.363636   \n",
       "1  0.368421  0.000000  0.242784  0.177305  0.349206  0.319680  0.515152   \n",
       "2  0.421053  0.285714  0.234295  0.208038  0.338624  0.237518  0.313131   \n",
       "3  0.763158  0.428571  0.200340  0.314421  0.497354  0.316045  0.212121   \n",
       "\n",
       "          7  \n",
       "0  0.104520  \n",
       "1  0.101695  \n",
       "2  0.084746  \n",
       "3  0.177966  "
      ]
     },
     "execution_count": 24,
     "metadata": {},
     "output_type": "execute_result"
    }
   ],
   "source": [
    "# scale all continuous independent variables\n",
    "scaler = MinMaxScaler()\n",
    "df_s =scaler.fit_transform(df_cont)\n",
    "\n",
    "df_cont1 = pd.DataFrame(df_s)\n",
    "df_cont1.head(4)"
   ]
  },
  {
   "cell_type": "code",
   "execution_count": 25,
   "id": "cfb9c3bd-181b-4024-b6ed-f15fbb031ec4",
   "metadata": {},
   "outputs": [
    {
     "data": {
      "text/html": [
       "<div>\n",
       "<style scoped>\n",
       "    .dataframe tbody tr th:only-of-type {\n",
       "        vertical-align: middle;\n",
       "    }\n",
       "\n",
       "    .dataframe tbody tr th {\n",
       "        vertical-align: top;\n",
       "    }\n",
       "\n",
       "    .dataframe thead th {\n",
       "        text-align: right;\n",
       "    }\n",
       "</style>\n",
       "<table border=\"1\" class=\"dataframe\">\n",
       "  <thead>\n",
       "    <tr style=\"text-align: right;\">\n",
       "      <th></th>\n",
       "      <th>age</th>\n",
       "      <th>cigsPerDay</th>\n",
       "      <th>totChol</th>\n",
       "      <th>sysBP</th>\n",
       "      <th>diaBP</th>\n",
       "      <th>BMI</th>\n",
       "      <th>heartRate</th>\n",
       "      <th>glucose</th>\n",
       "    </tr>\n",
       "  </thead>\n",
       "  <tbody>\n",
       "    <tr>\n",
       "      <th>0</th>\n",
       "      <td>0.184211</td>\n",
       "      <td>0.000000</td>\n",
       "      <td>0.149406</td>\n",
       "      <td>0.106383</td>\n",
       "      <td>0.232804</td>\n",
       "      <td>0.277024</td>\n",
       "      <td>0.363636</td>\n",
       "      <td>0.104520</td>\n",
       "    </tr>\n",
       "    <tr>\n",
       "      <th>1</th>\n",
       "      <td>0.368421</td>\n",
       "      <td>0.000000</td>\n",
       "      <td>0.242784</td>\n",
       "      <td>0.177305</td>\n",
       "      <td>0.349206</td>\n",
       "      <td>0.319680</td>\n",
       "      <td>0.515152</td>\n",
       "      <td>0.101695</td>\n",
       "    </tr>\n",
       "    <tr>\n",
       "      <th>2</th>\n",
       "      <td>0.421053</td>\n",
       "      <td>0.285714</td>\n",
       "      <td>0.234295</td>\n",
       "      <td>0.208038</td>\n",
       "      <td>0.338624</td>\n",
       "      <td>0.237518</td>\n",
       "      <td>0.313131</td>\n",
       "      <td>0.084746</td>\n",
       "    </tr>\n",
       "    <tr>\n",
       "      <th>3</th>\n",
       "      <td>0.763158</td>\n",
       "      <td>0.428571</td>\n",
       "      <td>0.200340</td>\n",
       "      <td>0.314421</td>\n",
       "      <td>0.497354</td>\n",
       "      <td>0.316045</td>\n",
       "      <td>0.212121</td>\n",
       "      <td>0.177966</td>\n",
       "    </tr>\n",
       "    <tr>\n",
       "      <th>4</th>\n",
       "      <td>0.368421</td>\n",
       "      <td>0.328571</td>\n",
       "      <td>0.302207</td>\n",
       "      <td>0.219858</td>\n",
       "      <td>0.380952</td>\n",
       "      <td>0.183228</td>\n",
       "      <td>0.414141</td>\n",
       "      <td>0.127119</td>\n",
       "    </tr>\n",
       "  </tbody>\n",
       "</table>\n",
       "</div>"
      ],
      "text/plain": [
       "        age  cigsPerDay   totChol     sysBP     diaBP       BMI  heartRate  \\\n",
       "0  0.184211    0.000000  0.149406  0.106383  0.232804  0.277024   0.363636   \n",
       "1  0.368421    0.000000  0.242784  0.177305  0.349206  0.319680   0.515152   \n",
       "2  0.421053    0.285714  0.234295  0.208038  0.338624  0.237518   0.313131   \n",
       "3  0.763158    0.428571  0.200340  0.314421  0.497354  0.316045   0.212121   \n",
       "4  0.368421    0.328571  0.302207  0.219858  0.380952  0.183228   0.414141   \n",
       "\n",
       "    glucose  \n",
       "0  0.104520  \n",
       "1  0.101695  \n",
       "2  0.084746  \n",
       "3  0.177966  \n",
       "4  0.127119  "
      ]
     },
     "execution_count": 25,
     "metadata": {},
     "output_type": "execute_result"
    }
   ],
   "source": [
    "# this step is not particularly important\n",
    "# done just in case we need to refer to variable names at some point\n",
    "\n",
    "var_names = df_cont.columns.tolist()\n",
    "col_numbers = df_cont1.columns.tolist()\n",
    "\n",
    "# Replacing the column numbers in scaled data with the original variable names\n",
    "\n",
    "df_cont1.rename(columns=dict(zip(col_numbers, var_names)), inplace=True)\n",
    "df_cont1.head() \n",
    "# Columns have the correct names instead of numbers now."
   ]
  },
  {
   "cell_type": "code",
   "execution_count": 26,
   "id": "74c552f9-e108-401a-9e0e-0d99f1c10235",
   "metadata": {},
   "outputs": [
    {
     "data": {
      "text/html": [
       "<div>\n",
       "<style scoped>\n",
       "    .dataframe tbody tr th:only-of-type {\n",
       "        vertical-align: middle;\n",
       "    }\n",
       "\n",
       "    .dataframe tbody tr th {\n",
       "        vertical-align: top;\n",
       "    }\n",
       "\n",
       "    .dataframe thead th {\n",
       "        text-align: right;\n",
       "    }\n",
       "</style>\n",
       "<table border=\"1\" class=\"dataframe\">\n",
       "  <thead>\n",
       "    <tr style=\"text-align: right;\">\n",
       "      <th></th>\n",
       "      <th>0</th>\n",
       "      <th>1</th>\n",
       "      <th>2</th>\n",
       "      <th>3</th>\n",
       "      <th>4</th>\n",
       "      <th>5</th>\n",
       "      <th>6</th>\n",
       "      <th>7</th>\n",
       "    </tr>\n",
       "  </thead>\n",
       "  <tbody>\n",
       "    <tr>\n",
       "      <th>age</th>\n",
       "      <td>0.184211</td>\n",
       "      <td>0.368421</td>\n",
       "      <td>0.421053</td>\n",
       "      <td>0.763158</td>\n",
       "      <td>0.368421</td>\n",
       "      <td>0.289474</td>\n",
       "      <td>0.815789</td>\n",
       "      <td>0.342105</td>\n",
       "    </tr>\n",
       "    <tr>\n",
       "      <th>cigsPerDay</th>\n",
       "      <td>0.000000</td>\n",
       "      <td>0.000000</td>\n",
       "      <td>0.285714</td>\n",
       "      <td>0.428571</td>\n",
       "      <td>0.328571</td>\n",
       "      <td>0.000000</td>\n",
       "      <td>0.000000</td>\n",
       "      <td>0.285714</td>\n",
       "    </tr>\n",
       "    <tr>\n",
       "      <th>totChol</th>\n",
       "      <td>0.149406</td>\n",
       "      <td>0.242784</td>\n",
       "      <td>0.234295</td>\n",
       "      <td>0.200340</td>\n",
       "      <td>0.302207</td>\n",
       "      <td>0.205433</td>\n",
       "      <td>0.166384</td>\n",
       "      <td>0.349745</td>\n",
       "    </tr>\n",
       "    <tr>\n",
       "      <th>sysBP</th>\n",
       "      <td>0.106383</td>\n",
       "      <td>0.177305</td>\n",
       "      <td>0.208038</td>\n",
       "      <td>0.314421</td>\n",
       "      <td>0.219858</td>\n",
       "      <td>0.456265</td>\n",
       "      <td>0.257683</td>\n",
       "      <td>0.078014</td>\n",
       "    </tr>\n",
       "    <tr>\n",
       "      <th>diaBP</th>\n",
       "      <td>0.232804</td>\n",
       "      <td>0.349206</td>\n",
       "      <td>0.338624</td>\n",
       "      <td>0.497354</td>\n",
       "      <td>0.380952</td>\n",
       "      <td>0.656085</td>\n",
       "      <td>0.243386</td>\n",
       "      <td>0.243386</td>\n",
       "    </tr>\n",
       "    <tr>\n",
       "      <th>BMI</th>\n",
       "      <td>0.277024</td>\n",
       "      <td>0.319680</td>\n",
       "      <td>0.237518</td>\n",
       "      <td>0.316045</td>\n",
       "      <td>0.183228</td>\n",
       "      <td>0.357731</td>\n",
       "      <td>0.425836</td>\n",
       "      <td>0.148812</td>\n",
       "    </tr>\n",
       "    <tr>\n",
       "      <th>heartRate</th>\n",
       "      <td>0.363636</td>\n",
       "      <td>0.515152</td>\n",
       "      <td>0.313131</td>\n",
       "      <td>0.212121</td>\n",
       "      <td>0.414141</td>\n",
       "      <td>0.333333</td>\n",
       "      <td>0.161616</td>\n",
       "      <td>0.353535</td>\n",
       "    </tr>\n",
       "    <tr>\n",
       "      <th>glucose</th>\n",
       "      <td>0.104520</td>\n",
       "      <td>0.101695</td>\n",
       "      <td>0.084746</td>\n",
       "      <td>0.177966</td>\n",
       "      <td>0.127119</td>\n",
       "      <td>0.166667</td>\n",
       "      <td>0.127119</td>\n",
       "      <td>0.107345</td>\n",
       "    </tr>\n",
       "    <tr>\n",
       "      <th>gender</th>\n",
       "      <td>1.000000</td>\n",
       "      <td>0.000000</td>\n",
       "      <td>1.000000</td>\n",
       "      <td>0.000000</td>\n",
       "      <td>0.000000</td>\n",
       "      <td>0.000000</td>\n",
       "      <td>0.000000</td>\n",
       "      <td>0.000000</td>\n",
       "    </tr>\n",
       "    <tr>\n",
       "      <th>currentSmoker</th>\n",
       "      <td>0.000000</td>\n",
       "      <td>0.000000</td>\n",
       "      <td>1.000000</td>\n",
       "      <td>1.000000</td>\n",
       "      <td>1.000000</td>\n",
       "      <td>0.000000</td>\n",
       "      <td>0.000000</td>\n",
       "      <td>1.000000</td>\n",
       "    </tr>\n",
       "    <tr>\n",
       "      <th>BPMeds</th>\n",
       "      <td>0.000000</td>\n",
       "      <td>0.000000</td>\n",
       "      <td>0.000000</td>\n",
       "      <td>0.000000</td>\n",
       "      <td>0.000000</td>\n",
       "      <td>0.000000</td>\n",
       "      <td>0.000000</td>\n",
       "      <td>0.000000</td>\n",
       "    </tr>\n",
       "    <tr>\n",
       "      <th>prevalentStroke</th>\n",
       "      <td>0.000000</td>\n",
       "      <td>0.000000</td>\n",
       "      <td>0.000000</td>\n",
       "      <td>0.000000</td>\n",
       "      <td>0.000000</td>\n",
       "      <td>0.000000</td>\n",
       "      <td>0.000000</td>\n",
       "      <td>0.000000</td>\n",
       "    </tr>\n",
       "    <tr>\n",
       "      <th>prevalentHyp</th>\n",
       "      <td>0.000000</td>\n",
       "      <td>0.000000</td>\n",
       "      <td>0.000000</td>\n",
       "      <td>1.000000</td>\n",
       "      <td>0.000000</td>\n",
       "      <td>1.000000</td>\n",
       "      <td>0.000000</td>\n",
       "      <td>0.000000</td>\n",
       "    </tr>\n",
       "    <tr>\n",
       "      <th>diabetes</th>\n",
       "      <td>0.000000</td>\n",
       "      <td>0.000000</td>\n",
       "      <td>0.000000</td>\n",
       "      <td>0.000000</td>\n",
       "      <td>0.000000</td>\n",
       "      <td>0.000000</td>\n",
       "      <td>0.000000</td>\n",
       "      <td>0.000000</td>\n",
       "    </tr>\n",
       "    <tr>\n",
       "      <th>edu</th>\n",
       "      <td>0.000000</td>\n",
       "      <td>1.000000</td>\n",
       "      <td>1.000000</td>\n",
       "      <td>0.000000</td>\n",
       "      <td>0.000000</td>\n",
       "      <td>1.000000</td>\n",
       "      <td>1.000000</td>\n",
       "      <td>1.000000</td>\n",
       "    </tr>\n",
       "  </tbody>\n",
       "</table>\n",
       "</div>"
      ],
      "text/plain": [
       "                        0         1         2         3         4         5  \\\n",
       "age              0.184211  0.368421  0.421053  0.763158  0.368421  0.289474   \n",
       "cigsPerDay       0.000000  0.000000  0.285714  0.428571  0.328571  0.000000   \n",
       "totChol          0.149406  0.242784  0.234295  0.200340  0.302207  0.205433   \n",
       "sysBP            0.106383  0.177305  0.208038  0.314421  0.219858  0.456265   \n",
       "diaBP            0.232804  0.349206  0.338624  0.497354  0.380952  0.656085   \n",
       "BMI              0.277024  0.319680  0.237518  0.316045  0.183228  0.357731   \n",
       "heartRate        0.363636  0.515152  0.313131  0.212121  0.414141  0.333333   \n",
       "glucose          0.104520  0.101695  0.084746  0.177966  0.127119  0.166667   \n",
       "gender           1.000000  0.000000  1.000000  0.000000  0.000000  0.000000   \n",
       "currentSmoker    0.000000  0.000000  1.000000  1.000000  1.000000  0.000000   \n",
       "BPMeds           0.000000  0.000000  0.000000  0.000000  0.000000  0.000000   \n",
       "prevalentStroke  0.000000  0.000000  0.000000  0.000000  0.000000  0.000000   \n",
       "prevalentHyp     0.000000  0.000000  0.000000  1.000000  0.000000  1.000000   \n",
       "diabetes         0.000000  0.000000  0.000000  0.000000  0.000000  0.000000   \n",
       "edu              0.000000  1.000000  1.000000  0.000000  0.000000  1.000000   \n",
       "\n",
       "                        6         7  \n",
       "age              0.815789  0.342105  \n",
       "cigsPerDay       0.000000  0.285714  \n",
       "totChol          0.166384  0.349745  \n",
       "sysBP            0.257683  0.078014  \n",
       "diaBP            0.243386  0.243386  \n",
       "BMI              0.425836  0.148812  \n",
       "heartRate        0.161616  0.353535  \n",
       "glucose          0.127119  0.107345  \n",
       "gender           0.000000  0.000000  \n",
       "currentSmoker    0.000000  1.000000  \n",
       "BPMeds           0.000000  0.000000  \n",
       "prevalentStroke  0.000000  0.000000  \n",
       "prevalentHyp     0.000000  0.000000  \n",
       "diabetes         0.000000  0.000000  \n",
       "edu              1.000000  1.000000  "
      ]
     },
     "execution_count": 26,
     "metadata": {},
     "output_type": "execute_result"
    }
   ],
   "source": [
    "# combining all continuous and categorical independent variables into one dataframe\n",
    "df_indep = pd.concat([df_cont1, all_cats], axis = 1)\n",
    "df_indep.head(8).transpose()"
   ]
  },
  {
   "cell_type": "code",
   "execution_count": 27,
   "id": "d6419f10-7403-4a0f-aa41-2c0c83633582",
   "metadata": {
    "tags": []
   },
   "outputs": [
    {
     "data": {
      "text/html": [
       "<div>\n",
       "<style scoped>\n",
       "    .dataframe tbody tr th:only-of-type {\n",
       "        vertical-align: middle;\n",
       "    }\n",
       "\n",
       "    .dataframe tbody tr th {\n",
       "        vertical-align: top;\n",
       "    }\n",
       "\n",
       "    .dataframe thead th {\n",
       "        text-align: right;\n",
       "    }\n",
       "</style>\n",
       "<table border=\"1\" class=\"dataframe\">\n",
       "  <thead>\n",
       "    <tr style=\"text-align: right;\">\n",
       "      <th></th>\n",
       "      <th>count</th>\n",
       "      <th>mean</th>\n",
       "      <th>std</th>\n",
       "      <th>min</th>\n",
       "      <th>25%</th>\n",
       "      <th>50%</th>\n",
       "      <th>75%</th>\n",
       "      <th>max</th>\n",
       "    </tr>\n",
       "  </thead>\n",
       "  <tbody>\n",
       "    <tr>\n",
       "      <th>age</th>\n",
       "      <td>4238.0</td>\n",
       "      <td>0.462762</td>\n",
       "      <td>0.225583</td>\n",
       "      <td>0.0</td>\n",
       "      <td>0.263158</td>\n",
       "      <td>0.447368</td>\n",
       "      <td>0.631579</td>\n",
       "      <td>1.0</td>\n",
       "    </tr>\n",
       "    <tr>\n",
       "      <th>cigsPerDay</th>\n",
       "      <td>4238.0</td>\n",
       "      <td>0.127735</td>\n",
       "      <td>0.170034</td>\n",
       "      <td>0.0</td>\n",
       "      <td>0.000000</td>\n",
       "      <td>0.000000</td>\n",
       "      <td>0.285714</td>\n",
       "      <td>1.0</td>\n",
       "    </tr>\n",
       "    <tr>\n",
       "      <th>totChol</th>\n",
       "      <td>4238.0</td>\n",
       "      <td>0.220186</td>\n",
       "      <td>0.075259</td>\n",
       "      <td>0.0</td>\n",
       "      <td>0.168081</td>\n",
       "      <td>0.215620</td>\n",
       "      <td>0.263158</td>\n",
       "      <td>1.0</td>\n",
       "    </tr>\n",
       "    <tr>\n",
       "      <th>sysBP</th>\n",
       "      <td>4238.0</td>\n",
       "      <td>0.230981</td>\n",
       "      <td>0.104199</td>\n",
       "      <td>0.0</td>\n",
       "      <td>0.158392</td>\n",
       "      <td>0.210402</td>\n",
       "      <td>0.286052</td>\n",
       "      <td>1.0</td>\n",
       "    </tr>\n",
       "    <tr>\n",
       "      <th>diaBP</th>\n",
       "      <td>4238.0</td>\n",
       "      <td>0.369243</td>\n",
       "      <td>0.126041</td>\n",
       "      <td>0.0</td>\n",
       "      <td>0.285714</td>\n",
       "      <td>0.359788</td>\n",
       "      <td>0.443122</td>\n",
       "      <td>1.0</td>\n",
       "    </tr>\n",
       "    <tr>\n",
       "      <th>BMI</th>\n",
       "      <td>4238.0</td>\n",
       "      <td>0.248672</td>\n",
       "      <td>0.098668</td>\n",
       "      <td>0.0</td>\n",
       "      <td>0.182744</td>\n",
       "      <td>0.238972</td>\n",
       "      <td>0.302896</td>\n",
       "      <td>1.0</td>\n",
       "    </tr>\n",
       "    <tr>\n",
       "      <th>heartRate</th>\n",
       "      <td>4238.0</td>\n",
       "      <td>0.322007</td>\n",
       "      <td>0.121467</td>\n",
       "      <td>0.0</td>\n",
       "      <td>0.242424</td>\n",
       "      <td>0.313131</td>\n",
       "      <td>0.393939</td>\n",
       "      <td>1.0</td>\n",
       "    </tr>\n",
       "    <tr>\n",
       "      <th>glucose</th>\n",
       "      <td>4238.0</td>\n",
       "      <td>0.117524</td>\n",
       "      <td>0.064591</td>\n",
       "      <td>0.0</td>\n",
       "      <td>0.090395</td>\n",
       "      <td>0.107345</td>\n",
       "      <td>0.127119</td>\n",
       "      <td>1.0</td>\n",
       "    </tr>\n",
       "    <tr>\n",
       "      <th>gender</th>\n",
       "      <td>4238.0</td>\n",
       "      <td>0.429212</td>\n",
       "      <td>0.495022</td>\n",
       "      <td>0.0</td>\n",
       "      <td>0.000000</td>\n",
       "      <td>0.000000</td>\n",
       "      <td>1.000000</td>\n",
       "      <td>1.0</td>\n",
       "    </tr>\n",
       "    <tr>\n",
       "      <th>currentSmoker</th>\n",
       "      <td>4238.0</td>\n",
       "      <td>0.494101</td>\n",
       "      <td>0.500024</td>\n",
       "      <td>0.0</td>\n",
       "      <td>0.000000</td>\n",
       "      <td>0.000000</td>\n",
       "      <td>1.000000</td>\n",
       "      <td>1.0</td>\n",
       "    </tr>\n",
       "    <tr>\n",
       "      <th>BPMeds</th>\n",
       "      <td>4238.0</td>\n",
       "      <td>0.029259</td>\n",
       "      <td>0.168552</td>\n",
       "      <td>0.0</td>\n",
       "      <td>0.000000</td>\n",
       "      <td>0.000000</td>\n",
       "      <td>0.000000</td>\n",
       "      <td>1.0</td>\n",
       "    </tr>\n",
       "    <tr>\n",
       "      <th>prevalentStroke</th>\n",
       "      <td>4238.0</td>\n",
       "      <td>0.005899</td>\n",
       "      <td>0.076587</td>\n",
       "      <td>0.0</td>\n",
       "      <td>0.000000</td>\n",
       "      <td>0.000000</td>\n",
       "      <td>0.000000</td>\n",
       "      <td>1.0</td>\n",
       "    </tr>\n",
       "    <tr>\n",
       "      <th>prevalentHyp</th>\n",
       "      <td>4238.0</td>\n",
       "      <td>0.310524</td>\n",
       "      <td>0.462763</td>\n",
       "      <td>0.0</td>\n",
       "      <td>0.000000</td>\n",
       "      <td>0.000000</td>\n",
       "      <td>1.000000</td>\n",
       "      <td>1.0</td>\n",
       "    </tr>\n",
       "    <tr>\n",
       "      <th>diabetes</th>\n",
       "      <td>4238.0</td>\n",
       "      <td>0.025720</td>\n",
       "      <td>0.158316</td>\n",
       "      <td>0.0</td>\n",
       "      <td>0.000000</td>\n",
       "      <td>0.000000</td>\n",
       "      <td>0.000000</td>\n",
       "      <td>1.0</td>\n",
       "    </tr>\n",
       "    <tr>\n",
       "      <th>edu</th>\n",
       "      <td>4238.0</td>\n",
       "      <td>0.726286</td>\n",
       "      <td>0.445917</td>\n",
       "      <td>0.0</td>\n",
       "      <td>0.000000</td>\n",
       "      <td>1.000000</td>\n",
       "      <td>1.000000</td>\n",
       "      <td>1.0</td>\n",
       "    </tr>\n",
       "  </tbody>\n",
       "</table>\n",
       "</div>"
      ],
      "text/plain": [
       "                  count      mean       std  min       25%       50%  \\\n",
       "age              4238.0  0.462762  0.225583  0.0  0.263158  0.447368   \n",
       "cigsPerDay       4238.0  0.127735  0.170034  0.0  0.000000  0.000000   \n",
       "totChol          4238.0  0.220186  0.075259  0.0  0.168081  0.215620   \n",
       "sysBP            4238.0  0.230981  0.104199  0.0  0.158392  0.210402   \n",
       "diaBP            4238.0  0.369243  0.126041  0.0  0.285714  0.359788   \n",
       "BMI              4238.0  0.248672  0.098668  0.0  0.182744  0.238972   \n",
       "heartRate        4238.0  0.322007  0.121467  0.0  0.242424  0.313131   \n",
       "glucose          4238.0  0.117524  0.064591  0.0  0.090395  0.107345   \n",
       "gender           4238.0  0.429212  0.495022  0.0  0.000000  0.000000   \n",
       "currentSmoker    4238.0  0.494101  0.500024  0.0  0.000000  0.000000   \n",
       "BPMeds           4238.0  0.029259  0.168552  0.0  0.000000  0.000000   \n",
       "prevalentStroke  4238.0  0.005899  0.076587  0.0  0.000000  0.000000   \n",
       "prevalentHyp     4238.0  0.310524  0.462763  0.0  0.000000  0.000000   \n",
       "diabetes         4238.0  0.025720  0.158316  0.0  0.000000  0.000000   \n",
       "edu              4238.0  0.726286  0.445917  0.0  0.000000  1.000000   \n",
       "\n",
       "                      75%  max  \n",
       "age              0.631579  1.0  \n",
       "cigsPerDay       0.285714  1.0  \n",
       "totChol          0.263158  1.0  \n",
       "sysBP            0.286052  1.0  \n",
       "diaBP            0.443122  1.0  \n",
       "BMI              0.302896  1.0  \n",
       "heartRate        0.393939  1.0  \n",
       "glucose          0.127119  1.0  \n",
       "gender           1.000000  1.0  \n",
       "currentSmoker    1.000000  1.0  \n",
       "BPMeds           0.000000  1.0  \n",
       "prevalentStroke  0.000000  1.0  \n",
       "prevalentHyp     1.000000  1.0  \n",
       "diabetes         0.000000  1.0  \n",
       "edu              1.000000  1.0  "
      ]
     },
     "execution_count": 27,
     "metadata": {},
     "output_type": "execute_result"
    }
   ],
   "source": [
    "# ensuring all independent variables have values from 0 to 1.\n",
    "\n",
    "df_indep.describe().transpose()"
   ]
  },
  {
   "cell_type": "markdown",
   "id": "e2a70a5f-64f6-4299-8346-6f8675f0845c",
   "metadata": {},
   "source": [
    "#### 3.3. Heatmap: to check correlation between variables \n",
    "\n",
    "A correlation heatmap was created including all independent variables in the dataset, to see if there is high correlation between any variables. \n",
    "Two variables 'diaBP' and 'currentSmoker' were removed because they were highly correlated (correlation co-efficient > 0.75) with two other variables."
   ]
  },
  {
   "cell_type": "code",
   "execution_count": 28,
   "id": "b8e61309-d8ef-4dd8-bec9-dcdfbbed2b37",
   "metadata": {},
   "outputs": [
    {
     "data": {
      "image/png": "[encoded data removed]",
      "text/plain": [
       "<Figure size 1080x720 with 2 Axes>"
      ]
     },
     "metadata": {},
     "output_type": "display_data"
    }
   ],
   "source": [
    "corr_matrix = df_indep.corr()\n",
    "features = corr_matrix.index\n",
    "plt.figure(figsize=(15,10))\n",
    "plt.xticks(rotation = 90)\n",
    "plt.title(\"\\nFigure 8. Heatmap - Correlation Matrix\\n\", fontname=\"Cambria\", fontsize=24)\n",
    "corr_heatmap = sns.heatmap(df_indep[features].corr(),annot=True,cmap=\"Blues\")"
   ]
  },
  {
   "cell_type": "code",
   "execution_count": 29,
   "id": "d19e4564-85aa-4236-90a5-ddbfef05bf1a",
   "metadata": {
    "tags": []
   },
   "outputs": [
    {
     "name": "stdout",
     "output_type": "stream",
     "text": [
      "2 \n",
      " {'currentSmoker', 'diaBP'}\n"
     ]
    }
   ],
   "source": [
    "# Find highly correlated features (correlation co-efficient > 0.75)\n",
    "\n",
    "corr_feats = set()\n",
    "cor_mat = df_indep.corr()\n",
    "\n",
    "for i in range(len(cor_mat.columns)):\n",
    "    for j in range(i):\n",
    "        if abs(cor_mat.iloc[i, j]) > 0.75:\n",
    "            corr_col = cor_mat.columns[i]\n",
    "            corr_feats.add(corr_col)\n",
    "\n",
    "print(len(corr_feats),'\\n', corr_feats)"
   ]
  },
  {
   "cell_type": "code",
   "execution_count": 30,
   "id": "cfdad845-6355-446f-b29a-208c11fa1531",
   "metadata": {},
   "outputs": [
    {
     "data": {
      "text/html": [
       "<div>\n",
       "<style scoped>\n",
       "    .dataframe tbody tr th:only-of-type {\n",
       "        vertical-align: middle;\n",
       "    }\n",
       "\n",
       "    .dataframe tbody tr th {\n",
       "        vertical-align: top;\n",
       "    }\n",
       "\n",
       "    .dataframe thead th {\n",
       "        text-align: right;\n",
       "    }\n",
       "</style>\n",
       "<table border=\"1\" class=\"dataframe\">\n",
       "  <thead>\n",
       "    <tr style=\"text-align: right;\">\n",
       "      <th></th>\n",
       "      <th>age</th>\n",
       "      <th>cigsPerDay</th>\n",
       "      <th>totChol</th>\n",
       "      <th>sysBP</th>\n",
       "      <th>BMI</th>\n",
       "      <th>heartRate</th>\n",
       "      <th>glucose</th>\n",
       "      <th>gender</th>\n",
       "      <th>BPMeds</th>\n",
       "      <th>prevalentStroke</th>\n",
       "      <th>prevalentHyp</th>\n",
       "      <th>diabetes</th>\n",
       "      <th>edu</th>\n",
       "    </tr>\n",
       "  </thead>\n",
       "  <tbody>\n",
       "    <tr>\n",
       "      <th>0</th>\n",
       "      <td>0.184211</td>\n",
       "      <td>0.000000</td>\n",
       "      <td>0.149406</td>\n",
       "      <td>0.106383</td>\n",
       "      <td>0.277024</td>\n",
       "      <td>0.363636</td>\n",
       "      <td>0.104520</td>\n",
       "      <td>1</td>\n",
       "      <td>0.0</td>\n",
       "      <td>0</td>\n",
       "      <td>0</td>\n",
       "      <td>0</td>\n",
       "      <td>0</td>\n",
       "    </tr>\n",
       "    <tr>\n",
       "      <th>1</th>\n",
       "      <td>0.368421</td>\n",
       "      <td>0.000000</td>\n",
       "      <td>0.242784</td>\n",
       "      <td>0.177305</td>\n",
       "      <td>0.319680</td>\n",
       "      <td>0.515152</td>\n",
       "      <td>0.101695</td>\n",
       "      <td>0</td>\n",
       "      <td>0.0</td>\n",
       "      <td>0</td>\n",
       "      <td>0</td>\n",
       "      <td>0</td>\n",
       "      <td>1</td>\n",
       "    </tr>\n",
       "    <tr>\n",
       "      <th>2</th>\n",
       "      <td>0.421053</td>\n",
       "      <td>0.285714</td>\n",
       "      <td>0.234295</td>\n",
       "      <td>0.208038</td>\n",
       "      <td>0.237518</td>\n",
       "      <td>0.313131</td>\n",
       "      <td>0.084746</td>\n",
       "      <td>1</td>\n",
       "      <td>0.0</td>\n",
       "      <td>0</td>\n",
       "      <td>0</td>\n",
       "      <td>0</td>\n",
       "      <td>1</td>\n",
       "    </tr>\n",
       "    <tr>\n",
       "      <th>3</th>\n",
       "      <td>0.763158</td>\n",
       "      <td>0.428571</td>\n",
       "      <td>0.200340</td>\n",
       "      <td>0.314421</td>\n",
       "      <td>0.316045</td>\n",
       "      <td>0.212121</td>\n",
       "      <td>0.177966</td>\n",
       "      <td>0</td>\n",
       "      <td>0.0</td>\n",
       "      <td>0</td>\n",
       "      <td>1</td>\n",
       "      <td>0</td>\n",
       "      <td>0</td>\n",
       "    </tr>\n",
       "    <tr>\n",
       "      <th>4</th>\n",
       "      <td>0.368421</td>\n",
       "      <td>0.328571</td>\n",
       "      <td>0.302207</td>\n",
       "      <td>0.219858</td>\n",
       "      <td>0.183228</td>\n",
       "      <td>0.414141</td>\n",
       "      <td>0.127119</td>\n",
       "      <td>0</td>\n",
       "      <td>0.0</td>\n",
       "      <td>0</td>\n",
       "      <td>0</td>\n",
       "      <td>0</td>\n",
       "      <td>0</td>\n",
       "    </tr>\n",
       "  </tbody>\n",
       "</table>\n",
       "</div>"
      ],
      "text/plain": [
       "        age  cigsPerDay   totChol     sysBP       BMI  heartRate   glucose  \\\n",
       "0  0.184211    0.000000  0.149406  0.106383  0.277024   0.363636  0.104520   \n",
       "1  0.368421    0.000000  0.242784  0.177305  0.319680   0.515152  0.101695   \n",
       "2  0.421053    0.285714  0.234295  0.208038  0.237518   0.313131  0.084746   \n",
       "3  0.763158    0.428571  0.200340  0.314421  0.316045   0.212121  0.177966   \n",
       "4  0.368421    0.328571  0.302207  0.219858  0.183228   0.414141  0.127119   \n",
       "\n",
       "   gender  BPMeds  prevalentStroke  prevalentHyp  diabetes  edu  \n",
       "0       1     0.0                0             0         0    0  \n",
       "1       0     0.0                0             0         0    1  \n",
       "2       1     0.0                0             0         0    1  \n",
       "3       0     0.0                0             1         0    0  \n",
       "4       0     0.0                0             0         0    0  "
      ]
     },
     "execution_count": 30,
     "metadata": {},
     "output_type": "execute_result"
    }
   ],
   "source": [
    "# make new dataframe of independent variables with 'diaBP' and 'currentSmoker' removed\n",
    "\n",
    "X = df_indep.drop(['diaBP', 'currentSmoker'], axis=1)\n",
    "X.head(5)"
   ]
  },
  {
   "cell_type": "markdown",
   "id": "033b5e25-4607-44fc-8c08-d8917f708f6e",
   "metadata": {
    "tags": []
   },
   "source": [
    "#### 3.4. Checking for Class Imbalance\n",
    "\n",
    "Class frequencies (CF) and relative class frequencies (RCF%) were calculated to check the percentage of each class in the target column, i.e., TenYearCHD. Findings indicated that the data set is imbalanced and it should be taken into accoutn in the next steps.\n",
    "\n",
    "Two common ways to handle data imbalance are:\n",
    "1. Using SMOTE (synthetic minority oversampling technique)\n",
    "2. Using weighted classification models\n",
    "\n",
    "For this project SMOTE was used on data sets after dividing the data into three sets, train, validation, and test."
   ]
  },
  {
   "cell_type": "code",
   "execution_count": 31,
   "id": "f98d0ba5-0a47-48ca-b292-742e9455ff7a",
   "metadata": {
    "tags": []
   },
   "outputs": [
    {
     "data": {
      "text/plain": [
       "0       0\n",
       "1       0\n",
       "2       0\n",
       "3       1\n",
       "4       0\n",
       "       ..\n",
       "4233    1\n",
       "4234    0\n",
       "4235    0\n",
       "4236    0\n",
       "4237    0\n",
       "Name: TenYearCHD, Length: 4238, dtype: int64"
      ]
     },
     "execution_count": 31,
     "metadata": {},
     "output_type": "execute_result"
    }
   ],
   "source": [
    "# separate the class column from the independent variables\n",
    "\n",
    "df_class = df_all.iloc[:, -1]\n",
    "df_class"
   ]
  },
  {
   "cell_type": "code",
   "execution_count": 32,
   "id": "0d005c70-455f-4e2f-837b-50beee76bcfc",
   "metadata": {
    "tags": []
   },
   "outputs": [
    {
     "name": "stdout",
     "output_type": "stream",
     "text": [
      "\n",
      "Class frequency (CF):\n",
      " 0    3594\n",
      "1     644\n",
      "Name: TenYearCHD, dtype: int64 \n",
      "\n",
      "Relative class frequency (RCF%):\n",
      " 0    84.804153\n",
      "1    15.195847\n",
      "Name: TenYearCHD, dtype: float64\n"
     ]
    }
   ],
   "source": [
    "# calculate the number and percentage of each class to check for class imbalance\n",
    "cl_frequency = df_class.value_counts()\n",
    "rel_frequency = df_class.value_counts(normalize=True) * 100\n",
    "print('\\nClass frequency (CF):\\n',cl_frequency, '\\n\\nRelative class frequency (RCF%):\\n', rel_frequency)"
   ]
  },
  {
   "cell_type": "raw",
   "id": "e5face54-a020-4dc4-bead-f5cfb6ae98f3",
   "metadata": {
    "jupyter": {
     "source_hidden": true
    },
    "tags": []
   },
   "source": [
    "# scale all independent variables\n",
    "#to_scale = data.iloc[:, 0:30]\n",
    "scaler = MinMaxScaler()\n",
    "df_s =scaler.fit_transform(df_x)\n",
    "X = pd.DataFrame(df_s)\n",
    "X.head(4)"
   ]
  },
  {
   "cell_type": "raw",
   "id": "be177d97-94a5-49f1-a67b-bf1a3c4d8384",
   "metadata": {
    "jupyter": {
     "source_hidden": true
    },
    "tags": []
   },
   "source": [
    "# this step is not particularly important\n",
    "# done just in case we need to refer to variable names at some point\n",
    "\n",
    "var_names = df_x.columns.tolist()\n",
    "col_numbers = X.columns.tolist()\n",
    "\n",
    "# Replacing the column numbers in scaled data with the original variable names\n",
    "\n",
    "X.rename(columns=dict(zip(col_numbers, var_names)), inplace=True)\n",
    "X.head() \n",
    "# Columns have the correct names instead of numbers now."
   ]
  },
  {
   "cell_type": "markdown",
   "id": "7a804798-56b3-42c8-aa13-f0fc629c3f6f",
   "metadata": {},
   "source": [
    "#### 3.5. Splitting the data set before developing classificaiton models\n",
    "\n",
    "Since the data set is imbalanced, it was split using stratified train-test split, to ensure that class frequencies are preserved in the train and test data sets. Class frequencies and relative frequencies were calculated again to confirm that the imbalance was maintained. \n",
    "\n",
    "The data was split twice. The first split divided the data into training and remaining data sets with 70% included in the training set. In the second split, the remaining data was eqaually divided into validation and test sets. "
   ]
  },
  {
   "cell_type": "code",
   "execution_count": 33,
   "id": "49f31777-e1f2-4442-bacf-f9593d2ee93e",
   "metadata": {},
   "outputs": [
    {
     "data": {
      "text/plain": [
       "0    0\n",
       "1    0\n",
       "2    0\n",
       "3    1\n",
       "4    0\n",
       "Name: TenYearCHD, dtype: int64"
      ]
     },
     "execution_count": 33,
     "metadata": {},
     "output_type": "execute_result"
    }
   ],
   "source": [
    "y = df_all.iloc[:, -1]\n",
    "y.head()"
   ]
  },
  {
   "cell_type": "code",
   "execution_count": 34,
   "id": "fd9db5de-9e0d-4a7d-a3bd-306b4dd05a9f",
   "metadata": {},
   "outputs": [
    {
     "name": "stdout",
     "output_type": "stream",
     "text": [
      "(2966, 13) (1272, 13) (2966,) (1272,)\n"
     ]
    }
   ],
   "source": [
    "# SPLIT 1: \n",
    "# Split 70% of data for training the model\n",
    "# remaing 30% data will be divided into two equal parts for validation and test samples\n",
    "X_train,X_rest,y_train,y_rest = train_test_split(X, y, train_size=0.70, random_state=1, stratify = y)\n",
    "print(X_train.shape, X_rest.shape, y_train.shape, y_rest.shape)"
   ]
  },
  {
   "cell_type": "code",
   "execution_count": 35,
   "id": "401be887-03e0-49ee-b700-f2c974c2ee7c",
   "metadata": {
    "tags": []
   },
   "outputs": [
    {
     "name": "stdout",
     "output_type": "stream",
     "text": [
      "RCF% - training dataset:\n",
      " 0    84.794336\n",
      "1    15.205664\n",
      "Name: TenYearCHD, dtype: float64 \n",
      "\n",
      "RCF% - remaining dataset:\n",
      " 0    84.827044\n",
      "1    15.172956\n",
      "Name: TenYearCHD, dtype: float64\n"
     ]
    }
   ],
   "source": [
    "# checking to ensure CF and RCF% were preserved after data splitting\n",
    "#ytr_count = y_train.value_counts()\n",
    "#yt_count = y_test.value_counts()\n",
    "\n",
    "train_freq = y_train.value_counts(normalize=True) * 100\n",
    "rest_freq = y_rest.value_counts(normalize=True) * 100\n",
    "\n",
    "# 'CF - test dataset:\\n', yt_count, '\\n\\nCF - train dataset:\\n', ytr_count,\n",
    "print('RCF% - training dataset:\\n', train_freq,  '\\n\\nRCF% - remaining dataset:\\n', rest_freq)"
   ]
  },
  {
   "cell_type": "code",
   "execution_count": 36,
   "id": "89ce9a05-d92b-4753-a46f-24298733e67a",
   "metadata": {},
   "outputs": [
    {
     "name": "stdout",
     "output_type": "stream",
     "text": [
      "(636, 13) (636, 13) (636,) (636,)\n"
     ]
    }
   ],
   "source": [
    "# SPLIT 2\n",
    "# Split the data into equal parts (50%) for validation and testing\n",
    "# validation and test data sets are 15% of the original data set\n",
    "\n",
    "X_valid, X_test, y_valid, y_test = train_test_split(X_rest, y_rest, train_size=0.50, random_state=1, stratify = y_rest)\n",
    "print(X_valid.shape, X_test.shape, y_valid.shape, y_test.shape)"
   ]
  },
  {
   "cell_type": "code",
   "execution_count": 37,
   "id": "87add9c6-1dc9-4c59-89f1-ea0f1389d6d9",
   "metadata": {
    "tags": []
   },
   "outputs": [
    {
     "name": "stdout",
     "output_type": "stream",
     "text": [
      "RCF% - validation dataset:\n",
      " 0    84.90566\n",
      "1    15.09434\n",
      "Name: TenYearCHD, dtype: float64 \n",
      "\n",
      "RCF% - test dataset:\n",
      " 0    84.748428\n",
      "1    15.251572\n",
      "Name: TenYearCHD, dtype: float64\n"
     ]
    }
   ],
   "source": [
    "# checking to ensure CF and RCF% were preserved after data splitting\n",
    "#ytr_count = y_train.value_counts()\n",
    "#yt_count = y_test.value_counts()\n",
    "\n",
    "valid_freq = y_valid.value_counts(normalize=True) * 100\n",
    "test_freq = y_test.value_counts(normalize=True) * 100\n",
    "\n",
    "# 'CF - test dataset:\\n', yt_count, '\\n\\nCF - train dataset:\\n', ytr_count,\n",
    "print('RCF% - validation dataset:\\n', valid_freq,  '\\n\\nRCF% - test dataset:\\n', test_freq)"
   ]
  },
  {
   "cell_type": "markdown",
   "id": "63c49b9b-bdbf-49a1-b705-1cedae9857ab",
   "metadata": {},
   "source": [
    "#### 3.6. SMOTE on training data set:\n",
    "\n",
    "SMOTE (Synthetic Minority Over-sampling Technique)\n",
    "\n",
    "SMOTE was perforemd separately on each sample after splitting the data, to avoid data leakage and improve generalizability."
   ]
  },
  {
   "cell_type": "code",
   "execution_count": 38,
   "id": "ec5294d0-f647-45ed-8a1f-1db46a20f18e",
   "metadata": {},
   "outputs": [
    {
     "name": "stdout",
     "output_type": "stream",
     "text": [
      "(5030, 14)\n",
      "(5030,)\n",
      "                        0         1         2         3         4\n",
      "age              0.710526  0.263158  0.605263  0.342105  0.526316\n",
      "cigsPerDay       0.000000  0.000000  0.000000  0.000000  0.285714\n",
      "totChol          0.297114  0.181664  0.285229  0.232598  0.157895\n",
      "sysBP            0.304965  0.172577  0.148936  0.137116  0.271868\n",
      "BMI              0.246001  0.313379  0.314590  0.252787  0.267087\n",
      "heartRate        0.464646  0.343434  0.292929  0.313131  0.262626\n",
      "glucose          0.107345  0.104520  0.110169  0.107345  0.127119\n",
      "gender           0.000000  1.000000  1.000000  0.000000  1.000000\n",
      "BPMeds           0.000000  0.000000  0.000000  0.000000  0.000000\n",
      "prevalentStroke  0.000000  0.000000  0.000000  0.000000  0.000000\n",
      "prevalentHyp     1.000000  0.000000  0.000000  0.000000  1.000000\n",
      "diabetes         0.000000  0.000000  0.000000  0.000000  0.000000\n",
      "edu              0.000000  1.000000  0.000000  1.000000  1.000000\n",
      "Class            0.000000  0.000000  1.000000  0.000000  0.000000\n"
     ]
    }
   ],
   "source": [
    "# applying SMOTE to the training data for both dependent and independent variables\n",
    "#X = pd.DataFrame(x_pc4)\n",
    "oversample = SMOTE()\n",
    "X_train, y_train =oversample.fit_resample(X_train, y_train)\n",
    "X_train['Class'] = y_train\n",
    "\n",
    "print(X_train.shape) \n",
    "print(y_train.shape)\n",
    "print(X_train.head().transpose())"
   ]
  },
  {
   "cell_type": "code",
   "execution_count": 39,
   "id": "5075147b-3223-4a4d-84bb-8bb16e5c0061",
   "metadata": {},
   "outputs": [
    {
     "name": "stdout",
     "output_type": "stream",
     "text": [
      "                        0         1         2         3         4\n",
      "age              0.710526  0.263158  0.605263  0.342105  0.526316\n",
      "cigsPerDay       0.000000  0.000000  0.000000  0.000000  0.285714\n",
      "totChol          0.297114  0.181664  0.285229  0.232598  0.157895\n",
      "sysBP            0.304965  0.172577  0.148936  0.137116  0.271868\n",
      "BMI              0.246001  0.313379  0.314590  0.252787  0.267087\n",
      "heartRate        0.464646  0.343434  0.292929  0.313131  0.262626\n",
      "glucose          0.107345  0.104520  0.110169  0.107345  0.127119\n",
      "gender           0.000000  1.000000  1.000000  0.000000  1.000000\n",
      "BPMeds           0.000000  0.000000  0.000000  0.000000  0.000000\n",
      "prevalentStroke  0.000000  0.000000  0.000000  0.000000  0.000000\n",
      "prevalentHyp     1.000000  0.000000  0.000000  0.000000  1.000000\n",
      "diabetes         0.000000  0.000000  0.000000  0.000000  0.000000\n",
      "edu              0.000000  1.000000  0.000000  1.000000  1.000000\n",
      "(5030, 13)\n"
     ]
    }
   ],
   "source": [
    "# create separate data frame with independent variables after SMOTE\n",
    "\n",
    "X_train1 = X_train.iloc[:, 0:13]\n",
    "print(X_train1.head().transpose())\n",
    "print(X_train1.shape)"
   ]
  },
  {
   "cell_type": "code",
   "execution_count": 40,
   "id": "8013c3fc-61bc-45ec-b637-afa0cf11a90b",
   "metadata": {},
   "outputs": [
    {
     "data": {
      "text/plain": [
       "0    2515\n",
       "1    2515\n",
       "Name: TenYearCHD, dtype: int64"
      ]
     },
     "execution_count": 40,
     "metadata": {},
     "output_type": "execute_result"
    }
   ],
   "source": [
    "# Count total numbe of positive and negative classes.\n",
    "y_train.value_counts()"
   ]
  },
  {
   "cell_type": "code",
   "execution_count": 41,
   "id": "d6d405ab-cca1-4bfc-b306-b4ba820aeb2e",
   "metadata": {},
   "outputs": [
    {
     "data": {
      "text/plain": [
       "0    50.0\n",
       "1    50.0\n",
       "Name: TenYearCHD, dtype: float64"
      ]
     },
     "execution_count": 41,
     "metadata": {},
     "output_type": "execute_result"
    }
   ],
   "source": [
    "# Calculate percentage of positive and negative classes.\n",
    "y_train.value_counts(normalize=True) * 100"
   ]
  },
  {
   "cell_type": "markdown",
   "id": "e740e32e-b13d-417c-89b1-391d9e45591b",
   "metadata": {},
   "source": [
    "#### 3.7.  SMOTE on validation data:"
   ]
  },
  {
   "cell_type": "code",
   "execution_count": 42,
   "id": "5b5a3271-3de8-4a82-af1a-157571a5057f",
   "metadata": {},
   "outputs": [
    {
     "name": "stdout",
     "output_type": "stream",
     "text": [
      "(1080, 14)\n",
      "(1080,)\n",
      "                        0         1         2         3         4\n",
      "age              0.552632  0.500000  0.421053  0.236842  0.473684\n",
      "cigsPerDay       0.000000  0.000000  0.000000  0.000000  0.571429\n",
      "totChol          0.312394  0.254669  0.337861  0.251273  0.222411\n",
      "sysBP            0.252955  0.210402  0.267139  0.174941  0.208038\n",
      "BMI              0.567135  0.227824  0.203829  0.371062  0.297625\n",
      "heartRate        0.313131  0.242424  0.212121  0.565657  0.363636\n",
      "glucose          0.093220  0.135593  0.084746  0.110169  0.081921\n",
      "gender           0.000000  0.000000  1.000000  1.000000  1.000000\n",
      "BPMeds           1.000000  0.000000  0.000000  0.000000  0.000000\n",
      "prevalentStroke  1.000000  0.000000  0.000000  0.000000  0.000000\n",
      "prevalentHyp     1.000000  0.000000  1.000000  0.000000  0.000000\n",
      "diabetes         0.000000  0.000000  0.000000  0.000000  0.000000\n",
      "edu              1.000000  0.000000  1.000000  1.000000  1.000000\n",
      "Class            0.000000  0.000000  0.000000  0.000000  0.000000\n"
     ]
    }
   ],
   "source": [
    "# applying SMOTE to the training data for both dependent and independent variables\n",
    "#X = pd.DataFrame(x_pc4)\n",
    "oversample = SMOTE()\n",
    "X_valid, y_valid =oversample.fit_resample(X_valid, y_valid)\n",
    "X_valid['Class'] = y_valid\n",
    "\n",
    "print(X_valid.shape) \n",
    "print(y_valid.shape)\n",
    "print(X_valid.head().transpose())"
   ]
  },
  {
   "cell_type": "code",
   "execution_count": 43,
   "id": "6fc16c8b-1ea3-4105-8adc-bf7cdcacc5f0",
   "metadata": {},
   "outputs": [
    {
     "name": "stdout",
     "output_type": "stream",
     "text": [
      "                        0         1         2         3         4\n",
      "age              0.552632  0.500000  0.421053  0.236842  0.473684\n",
      "cigsPerDay       0.000000  0.000000  0.000000  0.000000  0.571429\n",
      "totChol          0.312394  0.254669  0.337861  0.251273  0.222411\n",
      "sysBP            0.252955  0.210402  0.267139  0.174941  0.208038\n",
      "BMI              0.567135  0.227824  0.203829  0.371062  0.297625\n",
      "heartRate        0.313131  0.242424  0.212121  0.565657  0.363636\n",
      "glucose          0.093220  0.135593  0.084746  0.110169  0.081921\n",
      "gender           0.000000  0.000000  1.000000  1.000000  1.000000\n",
      "BPMeds           1.000000  0.000000  0.000000  0.000000  0.000000\n",
      "prevalentStroke  1.000000  0.000000  0.000000  0.000000  0.000000\n",
      "prevalentHyp     1.000000  0.000000  1.000000  0.000000  0.000000\n",
      "diabetes         0.000000  0.000000  0.000000  0.000000  0.000000\n",
      "edu              1.000000  0.000000  1.000000  1.000000  1.000000\n",
      "(1080, 13)\n"
     ]
    }
   ],
   "source": [
    "# create separate dataframe with independent variables from the test dataset after SMOTE\n",
    "\n",
    "X_valid1 = X_valid.iloc[:, 0:13]\n",
    "print(X_valid1.head().transpose())\n",
    "print(X_valid1.shape)"
   ]
  },
  {
   "cell_type": "code",
   "execution_count": 44,
   "id": "d820a039-0ed5-4e1b-9d6e-d67f7a436a92",
   "metadata": {},
   "outputs": [
    {
     "data": {
      "text/plain": [
       "0    50.0\n",
       "1    50.0\n",
       "Name: TenYearCHD, dtype: float64"
      ]
     },
     "execution_count": 44,
     "metadata": {},
     "output_type": "execute_result"
    }
   ],
   "source": [
    "# Count total numbe of positive and negative classes.\n",
    "#y_valid.value_counts()\n",
    "# Calculate percentage of positive and negative classes.\n",
    "y_valid.value_counts(normalize=True) * 100"
   ]
  },
  {
   "cell_type": "markdown",
   "id": "4e932378-3494-40d3-a697-e1b5e35fb0df",
   "metadata": {},
   "source": [
    "##### Names of dataframes for further analysis\n",
    "\n",
    "independent variables train:   X_train1     <br>\n",
    "\n",
    "independent variables valid:   X_valid1      <br>\n",
    "\n",
    "dependent variables train:     y_train      <br>\n",
    "\n",
    "dependent variables valid:     y_valid       <br>"
   ]
  },
  {
   "cell_type": "markdown",
   "id": "66e97222-9c3f-405f-8a93-2d13c55934dc",
   "metadata": {},
   "source": [
    "## 4. Developing & Evaluating Classification Models\n",
    "\n",
    "\n",
    "### 4.1.  Logistic regression \n",
    "\n",
    "First a baseline logistic regression model was developed, then a grid search was done with repeated stratified k folds, to find out the best parameters of the model, using F1-score. \n",
    "\n",
    "### 4.1.1.  Logistic regression - Baseline"
   ]
  },
  {
   "cell_type": "code",
   "execution_count": 45,
   "id": "b3a43b08-845a-48bd-a252-234fcc68b426",
   "metadata": {},
   "outputs": [],
   "source": [
    "# fitting model with default parameters as baseline\n",
    "\n",
    "lr_base = LogisticRegression(random_state=0)\n",
    "\n",
    "lr_base.fit(X_train1, y_train)\n",
    "lr_base_pred = lr_base.predict(X_valid1)"
   ]
  },
  {
   "cell_type": "code",
   "execution_count": 46,
   "id": "20eaac62-bdfa-4002-8089-04ebcd905399",
   "metadata": {
    "tags": []
   },
   "outputs": [
    {
     "name": "stdout",
     "output_type": "stream",
     "text": [
      "Baseline - Logistic Regression \n",
      "ROC AUC: 0.658 \n",
      "Classification Report:\n",
      "              precision    recall  f1-score   support\n",
      "\n",
      "           0       0.68      0.61      0.64       540\n",
      "           1       0.64      0.71      0.67       540\n",
      "\n",
      "    accuracy                           0.66      1080\n",
      "   macro avg       0.66      0.66      0.66      1080\n",
      "weighted avg       0.66      0.66      0.66      1080\n",
      "\n"
     ]
    }
   ],
   "source": [
    "baseline_score = roc_auc_score(y_valid, lr_base_pred)\n",
    "baseline_cr = classification_report(y_valid, lr_base_pred)\n",
    "\n",
    "print('Baseline - Logistic Regression',\n",
    "      '\\nROC AUC: {0:0.3f}'.format(baseline_score), \n",
    "      f'\\nClassification Report:\\n{baseline_cr}') "
   ]
  },
  {
   "cell_type": "markdown",
   "id": "6b0ae1f0-14f0-4eb4-8114-447632cedc4d",
   "metadata": {},
   "source": [
    "### 4.1.2.  Logistic regression - Parameter Tuning"
   ]
  },
  {
   "cell_type": "code",
   "execution_count": 47,
   "id": "e4d08290-768d-4021-a4e6-9e94901fc152",
   "metadata": {},
   "outputs": [
    {
     "name": "stdout",
     "output_type": "stream",
     "text": [
      "Best F1-score: 0.6802110084431096 \n",
      "Best param: {'C': 0.1, 'penalty': 'l2', 'solver': 'liblinear'}\n"
     ]
    }
   ],
   "source": [
    "# For parameter tuning we used Grid Search CV with Repeated Stratified KFold\n",
    "\n",
    "# making dictionaries of different parameters for logistic regression\n",
    "c_params = [0.0001, 0.001, 0.1, 1, 10, 100]\n",
    "pen_params = [\"l1\", \"l2\"]\n",
    "solv_params = [\"liblinear\", \"lbfgs\"]\n",
    "\n",
    "# create grid for GridSearchCV\n",
    "lr_grid = dict(solver=solv_params ,penalty=pen_params, C=c_params)\n",
    "\n",
    "# specify cross validation parameters with RepeatedStratifiedKFold for GridSearchCV\n",
    "lr_cv = RepeatedStratifiedKFold(n_splits=10, n_repeats=3, random_state=1)\n",
    "lr_grid = GridSearchCV(estimator=lr_base, param_grid=lr_grid, n_jobs=-1, cv=lr_cv, scoring='f1',error_score=0)\n",
    "\n",
    "# fit grid search model on the data\n",
    "lr_grid.fit(X_train1, y_train)   \n",
    "\n",
    "# print best parameters \n",
    "print(f'Best F1-score: {lr_grid.best_score_} \\nBest param: {lr_grid.best_params_}')  "
   ]
  },
  {
   "cell_type": "code",
   "execution_count": 48,
   "id": "51965839-e478-4fe9-bdc4-7c862fe6d1ca",
   "metadata": {},
   "outputs": [],
   "source": [
    "best_lr = LogisticRegression(C=0.0001, penalty='l2', solver='liblinear')\n",
    "\n",
    "best_lr.fit(X_train1, y_train)\n",
    "lr_pred2 = best_lr.predict(X_valid1)"
   ]
  },
  {
   "cell_type": "code",
   "execution_count": 49,
   "id": "9f10e567-22b4-403a-a3c1-b8928e686f12",
   "metadata": {},
   "outputs": [
    {
     "name": "stdout",
     "output_type": "stream",
     "text": [
      "Logistic Regression with best parameters from  \n",
      "ROC AUC: 0.506 \n",
      "\n",
      "Classification Report:\n",
      "              precision    recall  f1-score   support\n",
      "\n",
      "           0       1.00      0.01      0.02       540\n",
      "           1       0.50      1.00      0.67       540\n",
      "\n",
      "    accuracy                           0.51      1080\n",
      "   macro avg       0.75      0.51      0.35      1080\n",
      "weighted avg       0.75      0.51      0.35      1080\n",
      "\n"
     ]
    }
   ],
   "source": [
    "bestlr_score = roc_auc_score(y_valid, lr_pred2)\n",
    "bestlr_cr = classification_report(y_valid, lr_pred2)\n",
    "\n",
    "print('Logistic Regression with best parameters from ',\n",
    "      '\\nROC AUC: {0:0.3f}'.format(bestlr_score), \n",
    "      f'\\n\\nClassification Report:\\n{bestlr_cr}') "
   ]
  },
  {
   "cell_type": "markdown",
   "id": "e52bdda5-bbed-4c07-9657-7c00f7bf5b66",
   "metadata": {},
   "source": [
    "### 4.2.  Random Forest Classifier\n",
    "\n",
    "#### 4.2.1. Random Forest Classifier - Baseline"
   ]
  },
  {
   "cell_type": "code",
   "execution_count": 50,
   "id": "8f1b8df6-c35b-45ff-bdad-c011e7e88f1a",
   "metadata": {},
   "outputs": [],
   "source": [
    "# fitting model with default parameters as baseline\n",
    "\n",
    "rf_base = RandomForestClassifier(random_state = 0)\n",
    "\n",
    "rf_base.fit(X_train1, y_train)\n",
    "rf_base_pred = rf_base.predict(X_valid1)"
   ]
  },
  {
   "cell_type": "code",
   "execution_count": 51,
   "id": "427382b3-09b8-4fea-acc5-f63e0ed9d19c",
   "metadata": {},
   "outputs": [
    {
     "name": "stdout",
     "output_type": "stream",
     "text": [
      "Random Forest Classifier - Baseline \n",
      "ROC AUC: 0.643 \n",
      "Classification Report:\n",
      "              precision    recall  f1-score   support\n",
      "\n",
      "           0       0.60      0.86      0.71       540\n",
      "           1       0.75      0.43      0.55       540\n",
      "\n",
      "    accuracy                           0.64      1080\n",
      "   macro avg       0.67      0.64      0.63      1080\n",
      "weighted avg       0.67      0.64      0.63      1080\n",
      "\n"
     ]
    }
   ],
   "source": [
    "rfbase_score = roc_auc_score(y_valid, rf_base_pred)\n",
    "rfbase_cr = classification_report(y_valid, rf_base_pred)\n",
    "\n",
    "print('Random Forest Classifier - Baseline',\n",
    "      '\\nROC AUC: {0:0.3f}'.format(rfbase_score), \n",
    "      f'\\nClassification Report:\\n{rfbase_cr}') "
   ]
  },
  {
   "cell_type": "markdown",
   "id": "893461b1-cf7a-4e1b-9e14-bf052398a49a",
   "metadata": {},
   "source": [
    "#### 3.2.2. Random Forest Classifier - Paremeter Tuning"
   ]
  },
  {
   "cell_type": "code",
   "execution_count": 52,
   "id": "bb236f97-cbf8-42c2-a3ce-12655ccc7513",
   "metadata": {},
   "outputs": [
    {
     "name": "stdout",
     "output_type": "stream",
     "text": [
      "Best F1-score: 0.886031661185005 \n",
      "Best param: {'max_depth': 40, 'n_estimators': 1000}\n"
     ]
    }
   ],
   "source": [
    "n_estimators = [10, 100, 1000]\n",
    "#max_features = ['sqrt', 'log2'] max_features=max_features,\n",
    "max_depth = [20, 40, 60]\n",
    "# define grid search\n",
    "grid = dict(n_estimators=n_estimators, max_depth=max_depth)\n",
    "rf_cv = RepeatedStratifiedKFold(n_splits=5, n_repeats=3, random_state=1)\n",
    "rf_grid_model = GridSearchCV(estimator=rf_base, param_grid=grid, n_jobs=-1, cv=rf_cv, scoring='f1',error_score=0)\n",
    "grid_result = rf_grid_model.fit(X_train1, y_train)\n",
    "rf_grid_pred = rf_base.predict(X_valid1)\n",
    "\n",
    "print(f'Best F1-score: {rf_grid_model.best_score_} \\nBest param: {rf_grid_model.best_params_}')  "
   ]
  },
  {
   "cell_type": "code",
   "execution_count": 53,
   "id": "cb536a4a-b180-452c-9a41-2644b33453bb",
   "metadata": {},
   "outputs": [],
   "source": [
    "best_rf = RandomForestClassifier(random_state = 0, n_estimators=1000, max_depth=40)\n",
    "\n",
    "best_rf.fit(X_train1, y_train)\n",
    "rf_pred2 = best_rf.predict(X_valid1)"
   ]
  },
  {
   "cell_type": "code",
   "execution_count": 54,
   "id": "5f0ef3f9-a431-44c8-b01b-1e325e0e60db",
   "metadata": {},
   "outputs": [
    {
     "name": "stdout",
     "output_type": "stream",
     "text": [
      "Random Forest with Best Parameters \n",
      "ROC AUC: 0.643 \n",
      "Classification Report:\n",
      "              precision    recall  f1-score   support\n",
      "\n",
      "           0       0.60      0.86      0.71       540\n",
      "           1       0.75      0.42      0.54       540\n",
      "\n",
      "    accuracy                           0.64      1080\n",
      "   macro avg       0.67      0.64      0.62      1080\n",
      "weighted avg       0.67      0.64      0.62      1080\n",
      "\n"
     ]
    }
   ],
   "source": [
    "bestrf_score = roc_auc_score(y_valid, rf_pred2)\n",
    "bestrf_cr = classification_report(y_valid, rf_pred2)\n",
    "\n",
    "print('Random Forest with Best Parameters',      \n",
    "      '\\nROC AUC: {0:0.3f}'.format(rfbase_score), \n",
    "      f'\\nClassification Report:\\n{bestrf_cr}') "
   ]
  },
  {
   "cell_type": "markdown",
   "id": "733fa07d-d632-44cf-8dca-ec1f0e33f240",
   "metadata": {},
   "source": [
    "### 4.3.  Gradient Boost Classifier\n",
    "\n",
    "#### 4.3.1. Gradient Boost Classifier - Baseline"
   ]
  },
  {
   "cell_type": "code",
   "execution_count": 55,
   "id": "7eb3a414-4927-4c0c-a2e9-9f2b90efaec9",
   "metadata": {},
   "outputs": [],
   "source": [
    "# fitting model with default parameters as baseline\n",
    "gb_base = GradientBoostingClassifier(random_state = 0)\n",
    "\n",
    "gb_base.fit(X_train1, y_train)\n",
    "gb_base_pred = gb_base.predict(X_valid1)"
   ]
  },
  {
   "cell_type": "code",
   "execution_count": 56,
   "id": "affccfcb-2a8c-42cb-9321-cb1636a88240",
   "metadata": {},
   "outputs": [
    {
     "name": "stdout",
     "output_type": "stream",
     "text": [
      "Gradient Boosting Classifier - Baseline \n",
      "ROC AUC: 0.794 \n",
      "Classification Report:\n",
      "              precision    recall  f1-score   support\n",
      "\n",
      "           0       0.81      0.77      0.79       540\n",
      "           1       0.78      0.82      0.80       540\n",
      "\n",
      "    accuracy                           0.79      1080\n",
      "   macro avg       0.79      0.79      0.79      1080\n",
      "weighted avg       0.79      0.79      0.79      1080\n",
      "\n"
     ]
    }
   ],
   "source": [
    "gb_base_score = roc_auc_score(y_valid, gb_base_pred)\n",
    "gb_base_cr = classification_report(y_valid, gb_base_pred)\n",
    "\n",
    "print('Gradient Boosting Classifier - Baseline',\n",
    "      '\\nROC AUC: {0:0.3f}'.format(gb_base_score), \n",
    "      f'\\nClassification Report:\\n{gb_base_cr}') "
   ]
  },
  {
   "cell_type": "markdown",
   "id": "7c33961f-dd8a-4bee-8fc2-b0a78b6a5ed2",
   "metadata": {},
   "source": [
    "#### 4.3.2. Gradient Boost Classifier - Parameter Tuning\n",
    "\n",
    "The code for parameter tuning of the GB classifier was too computationally intensive and it never finished on our computers. But it is added in the notebook to show the process. These parameters were tried separately to fit different models and the one that showed the best results was chosen as the final model of this classifier."
   ]
  },
  {
   "cell_type": "raw",
   "id": "b593d8fd-4b7b-437f-ab13-02561b333fa6",
   "metadata": {
    "jupyter": {
     "outputs_hidden": true
    },
    "tags": []
   },
   "source": [
    "gb_estim = [10, 100, 1000]\n",
    "gb_learn_r = [0.001, 0.01, 0.1]\n",
    "subsample = [0.5, 0.7, 1.0] subsample=subsample, \n",
    "max_depth = [3, 7, 9]\n",
    "# define grid search\n",
    "gb_grid = dict(learning_rate=gb_learn_r, n_estimators=gb_estim, max_depth=max_depth)\n",
    "cv_gb = RepeatedStratifiedKFold(n_splits=10, n_repeats=3, random_state=1)\n",
    "gb_grid_model = GridSearchCV(estimator=gb_base, param_grid=gb_grid, n_jobs=-1, cv=cv, scoring='f1',error_score=0)\n",
    "gb_grid_pred = gb_grid_model.fit(X_train1, y_train)\n",
    "\n",
    "print(f'Best F1-score: {gb_grid_model.best_score_} \\nBest param: {gb_grid_model.best_params_}')  "
   ]
  },
  {
   "cell_type": "code",
   "execution_count": 57,
   "id": "d0b4754f-d4b1-4e1a-ad9c-a3010f5daa55",
   "metadata": {},
   "outputs": [],
   "source": [
    "# I could not get the previous code for GradientSearchCV to finish \n",
    "# So I fitted the model a few times with different parameters and this is the best one I found\n",
    "\n",
    "gb_best = GradientBoostingClassifier(random_state = 0, learning_rate= 0.1, \n",
    "                                     max_depth= 3, n_estimators= 1000, subsample= 0.5)\n",
    "\n",
    "gb_best.fit(X_train1, y_train)\n",
    "gb_pred2 = gb_best.predict(X_valid1)"
   ]
  },
  {
   "cell_type": "code",
   "execution_count": 58,
   "id": "2bbefbeb-0ff0-485e-a95a-4041af37d4a5",
   "metadata": {},
   "outputs": [
    {
     "name": "stdout",
     "output_type": "stream",
     "text": [
      "Random Forest with Best Parameters \n",
      "ROC AUC: 0.643 \n",
      "Classification Report:\n",
      "              precision    recall  f1-score   support\n",
      "\n",
      "           0       0.84      0.91      0.88       540\n",
      "           1       0.91      0.82      0.86       540\n",
      "\n",
      "    accuracy                           0.87      1080\n",
      "   macro avg       0.87      0.87      0.87      1080\n",
      "weighted avg       0.87      0.87      0.87      1080\n",
      "\n"
     ]
    }
   ],
   "source": [
    "bestgb_score = roc_auc_score(y_valid, gb_pred2)\n",
    "bestgb_cr = classification_report(y_valid, gb_pred2)\n",
    "\n",
    "print('Random Forest with Best Parameters',\n",
    "      '\\nROC AUC: {0:0.3f}'.format(rfbase_score), \n",
    "      f'\\nClassification Report:\\n{bestgb_cr}') "
   ]
  },
  {
   "cell_type": "markdown",
   "id": "5710eaf8-44c7-49cc-b021-d3f33bacb609",
   "metadata": {},
   "source": [
    "## 5. Model Selection and Prediction\n",
    "\n",
    "Looking at the F1-score of all classification models, Gradient Boosting classifier appears to be the best model, as it has the highest F1-score of 0.87 after parameter tuning and an F1-score of 0.77 without parameter tuning. \n",
    "\n",
    "In the next steps this model will be used to make predictions with the test data set.\n",
    "\n",
    "### 5.1. Pre-processing the test (holdout) data set\n",
    "\n",
    "\n",
    "#### 5.1.1.  SMOTE on test data:"
   ]
  },
  {
   "cell_type": "code",
   "execution_count": 59,
   "id": "0c83cf28-d8ad-432f-af35-58b2a34e93dd",
   "metadata": {},
   "outputs": [
    {
     "name": "stdout",
     "output_type": "stream",
     "text": [
      "(1078, 14)\n",
      "(1078,)\n",
      "                        0         1         2         3         4\n",
      "age              0.710526  0.447368  0.263158  0.368421  0.473684\n",
      "cigsPerDay       0.000000  0.128571  0.128571  0.285714  0.128571\n",
      "totChol          0.207131  0.146010  0.132428  0.190153  0.320883\n",
      "sysBP            0.080378  0.148936  0.186761  0.163121  0.167849\n",
      "BMI              0.233640  0.153175  0.214978  0.209161  0.194135\n",
      "heartRate        0.000000  0.040404  0.393939  0.262626  0.313131\n",
      "glucose          0.115819  0.135593  0.146893  0.141243  0.081921\n",
      "gender           1.000000  1.000000  0.000000  1.000000  1.000000\n",
      "BPMeds           0.000000  0.000000  0.000000  0.000000  0.000000\n",
      "prevalentStroke  0.000000  0.000000  0.000000  0.000000  0.000000\n",
      "prevalentHyp     0.000000  0.000000  0.000000  0.000000  0.000000\n",
      "diabetes         0.000000  0.000000  0.000000  0.000000  0.000000\n",
      "edu              1.000000  1.000000  1.000000  1.000000  0.000000\n",
      "Class            0.000000  0.000000  0.000000  0.000000  1.000000\n"
     ]
    }
   ],
   "source": [
    "# applying SMOTE to the training data for both dependent and independent variables\n",
    "#X = pd.DataFrame(x_pc4)\n",
    "oversample = SMOTE()\n",
    "X_test, y_test =oversample.fit_resample(X_test, y_test)\n",
    "X_test['Class'] = y_test\n",
    "\n",
    "print(X_test.shape) \n",
    "print(y_test.shape)\n",
    "print(X_test.head().transpose())"
   ]
  },
  {
   "cell_type": "code",
   "execution_count": 60,
   "id": "0223b10e-b219-41de-966b-4eb9c5896f88",
   "metadata": {},
   "outputs": [
    {
     "name": "stdout",
     "output_type": "stream",
     "text": [
      "                        0         1         2         3         4\n",
      "age              0.710526  0.447368  0.263158  0.368421  0.473684\n",
      "cigsPerDay       0.000000  0.128571  0.128571  0.285714  0.128571\n",
      "totChol          0.207131  0.146010  0.132428  0.190153  0.320883\n",
      "sysBP            0.080378  0.148936  0.186761  0.163121  0.167849\n",
      "BMI              0.233640  0.153175  0.214978  0.209161  0.194135\n",
      "heartRate        0.000000  0.040404  0.393939  0.262626  0.313131\n",
      "glucose          0.115819  0.135593  0.146893  0.141243  0.081921\n",
      "gender           1.000000  1.000000  0.000000  1.000000  1.000000\n",
      "BPMeds           0.000000  0.000000  0.000000  0.000000  0.000000\n",
      "prevalentStroke  0.000000  0.000000  0.000000  0.000000  0.000000\n",
      "prevalentHyp     0.000000  0.000000  0.000000  0.000000  0.000000\n",
      "diabetes         0.000000  0.000000  0.000000  0.000000  0.000000\n",
      "edu              1.000000  1.000000  1.000000  1.000000  0.000000\n",
      "(1078, 13)\n"
     ]
    }
   ],
   "source": [
    "# create separate dataframe with independent variables from the test dataset after SMOTE\n",
    "\n",
    "X_test2 = X_test.iloc[:, 0:13]\n",
    "print(X_test2.head().transpose())\n",
    "print(X_test2.shape)"
   ]
  },
  {
   "cell_type": "code",
   "execution_count": 61,
   "id": "01df0cb9-dd21-4c1a-a230-887712612fa6",
   "metadata": {},
   "outputs": [
    {
     "data": {
      "text/plain": [
       "0    539\n",
       "1    539\n",
       "Name: TenYearCHD, dtype: int64"
      ]
     },
     "execution_count": 61,
     "metadata": {},
     "output_type": "execute_result"
    }
   ],
   "source": [
    "# Count total numbe of positive and negative classes.\n",
    "y_test.value_counts()"
   ]
  },
  {
   "cell_type": "code",
   "execution_count": 62,
   "id": "11b4402e-78e7-4b5a-a6f6-26d844231613",
   "metadata": {},
   "outputs": [
    {
     "data": {
      "text/plain": [
       "0    50.0\n",
       "1    50.0\n",
       "Name: TenYearCHD, dtype: float64"
      ]
     },
     "execution_count": 62,
     "metadata": {},
     "output_type": "execute_result"
    }
   ],
   "source": [
    "# Calculate percentage of positive and negative classes.\n",
    "y_test.value_counts(normalize=True) * 100"
   ]
  },
  {
   "cell_type": "markdown",
   "id": "bb93f1c5-a7cd-4cd6-b0cb-7ad824ac7d29",
   "metadata": {},
   "source": [
    "### 5.2. Predictions with the holdout data set"
   ]
  },
  {
   "cell_type": "code",
   "execution_count": 63,
   "id": "6686c414-5e76-43b0-93eb-cc201acb67ef",
   "metadata": {
    "tags": []
   },
   "outputs": [
    {
     "data": {
      "text/plain": [
       "(1078, 1)"
      ]
     },
     "execution_count": 63,
     "metadata": {},
     "output_type": "execute_result"
    }
   ],
   "source": [
    "# fit the selected model on the test data to make class predictions\n",
    "test_pred = gb_best.predict(X_test2)\n",
    "\n",
    "test_pred1 = test_pred.T\n",
    "\n",
    "df_pred1 = pd.DataFrame(test_pred1)\n",
    "df_pred1.columns=['TenYearCHD']\n",
    "df_pred1.shape"
   ]
  },
  {
   "cell_type": "markdown",
   "id": "2f5b35d1-0082-49c7-b474-02b1c602671f",
   "metadata": {
    "tags": []
   },
   "source": [
    "### 5.2.1. Model performance on the test data\n",
    "\n",
    "Using the gradient boost model predictions were made on the test data set, and the results show that the model performed well with an F1-score of 0.85, and an ROC-AUC score of 0.847. "
   ]
  },
  {
   "cell_type": "code",
   "execution_count": 64,
   "id": "9286648b-f840-4699-b5e8-c461a540125a",
   "metadata": {},
   "outputs": [
    {
     "name": "stdout",
     "output_type": "stream",
     "text": [
      "Random Forest with Best Parameters \n",
      "ROC AUC: 0.843 \n",
      "Classification Report:\n",
      "              precision    recall  f1-score   support\n",
      "\n",
      "           0       0.81      0.90      0.85       539\n",
      "           1       0.88      0.79      0.83       539\n",
      "\n",
      "    accuracy                           0.84      1078\n",
      "   macro avg       0.85      0.84      0.84      1078\n",
      "weighted avg       0.85      0.84      0.84      1078\n",
      "\n"
     ]
    }
   ],
   "source": [
    "pred_score = roc_auc_score(y_test, df_pred1)\n",
    "pred_cr = classification_report(y_test, df_pred1)\n",
    "\n",
    "print('Random Forest with Best Parameters',\n",
    "      '\\nROC AUC: {0:0.3f}'.format(pred_score), \n",
    "      f'\\nClassification Report:\\n{pred_cr}') "
   ]
  },
  {
   "cell_type": "code",
   "execution_count": null,
   "id": "9d51c1b3-c255-4064-964d-35bdc9450787",
   "metadata": {},
   "outputs": [],
   "source": []
  },
  {
   "cell_type": "code",
   "execution_count": null,
   "id": "ca8e0529-fe54-4c77-889c-a01a5317e7f4",
   "metadata": {},
   "outputs": [],
   "source": []
  }
 ],
 "metadata": {
  "kernelspec": {
   "display_name": "Python 3 (ipykernel)",
   "language": "python",
   "name": "python3"
  },
  "language_info": {
   "codemirror_mode": {
    "name": "ipython",
    "version": 3
   },
   "file_extension": ".py",
   "mimetype": "text/x-python",
   "name": "python",
   "nbconvert_exporter": "python",
   "pygments_lexer": "ipython3",
   "version": "3.9.7"
  }
 },
 "nbformat": 4,
 "nbformat_minor": 5
}
